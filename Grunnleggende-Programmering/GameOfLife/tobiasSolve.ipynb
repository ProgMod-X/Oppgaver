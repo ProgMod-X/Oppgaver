{
 "cells": [
  {
   "cell_type": "code",
   "execution_count": 164,
   "metadata": {},
   "outputs": [
    {
     "data": {
      "application/vnd.jupyter.widget-view+json": {
       "model_id": "825abfa661a0421996cfd5d9f8a37ef9",
       "version_major": 2,
       "version_minor": 0
      },
      "text/plain": [
       "Canvas(width=500)"
      ]
     },
     "metadata": {},
     "output_type": "display_data"
    },
    {
     "data": {
      "image/png": "[encoded data removed]",
      "text/plain": [
       "<Figure size 640x480 with 1 Axes>"
      ]
     },
     "metadata": {},
     "output_type": "display_data"
    }
   ],
   "source": [
    "import random\n",
    "from ipycanvas import Canvas, hold_canvas\n",
    "import time\n",
    "from matplotlib import pyplot as plt\n",
    "\n",
    "def populate(width, height): # Make a table (map) with random cells alive\n",
    "    table = []\n",
    "    choices = [0, 0, 1]\n",
    "    global population\n",
    "    for i in range(height):\n",
    "        temp = []\n",
    "        for j in range(width):\n",
    "            val = random.choice(choices)\n",
    "            temp.append(val)\n",
    "            if val == 1:\n",
    "                population += 1\n",
    "        table.append(temp)\n",
    "    return table\n",
    "\n",
    "def alive_next_generation(neighborhood):\n",
    "    global population\n",
    "    neighbors = sum(sum(row) for row in neighborhood) - neighborhood[1][1] # Count number of neighbors\n",
    "    alive = neighborhood[1][1]\n",
    "    if alive:\n",
    "        if neighbors < 2 or neighbors > 3:\n",
    "            population -= 1\n",
    "            return False\n",
    "        else:\n",
    "            return True\n",
    "    else:\n",
    "        if neighbors == 3:\n",
    "            population += 1\n",
    "            return True\n",
    "        else:\n",
    "            return False\n",
    "    \n",
    "def next_generation(world):\n",
    "    new_world = [[0 for _ in range(len(world[0]))] for _ in range(len(world))]\n",
    "\n",
    "    # Go through all cells\n",
    "    for y in range(len(world)):\n",
    "        for x in range(len(world[y])):\n",
    "            # Make a neighborhood\n",
    "            neighborhood = []\n",
    "            for i in range(3):\n",
    "                temp = []\n",
    "                for j in range(3):\n",
    "                    temp.append(world[(y - 1 + i) % len(world)][(x - 1 + j) % len(world[y])])\n",
    "\n",
    "                neighborhood.append(temp)\n",
    "            \n",
    "            alive = alive_next_generation(neighborhood)  # Check if alive based on neighborhood\n",
    "            if alive:\n",
    "                new_world[y][x] = 1\n",
    "            else:\n",
    "                new_world[y][x] = 0\n",
    "\n",
    "    return new_world\n",
    "\n",
    "width = 500\n",
    "height = 500\n",
    "cell_size = 10\n",
    "fps = 60\n",
    "canvas = Canvas(width = width, height = height)\n",
    "tick = 0\n",
    "population = 0\n",
    "poplist = []\n",
    "dpoplist = []\n",
    "stabilitylist = []\n",
    "stable = False\n",
    "\n",
    "world = populate(int(width/cell_size), int(height/cell_size))\n",
    "display(canvas)\n",
    "\n",
    "while stable == False:\n",
    "    with hold_canvas(canvas):\n",
    "        canvas.clear()\n",
    "        for i in range(len(world)):\n",
    "            for j in range(len(world[i])):\n",
    "                posX = j*cell_size\n",
    "                posY = i*cell_size\n",
    "                if world[i][j] == 1:\n",
    "                    canvas.fill_style = \"black\"\n",
    "                    canvas.fill_rect(posX, posY, cell_size, cell_size)\n",
    "\n",
    "        \n",
    "        world = next_generation(world)\n",
    "        poplist.append(population)\n",
    "        if len(poplist) > 2:\n",
    "            dpop = (poplist[-1] - poplist[-2])\n",
    "        else:\n",
    "            dpop = (poplist[-1])\n",
    "        dpoplist.append(dpop)\n",
    "        \n",
    "        if len(dpoplist) > 3:\n",
    "            rollingdpop = abs(dpoplist[-1]) + abs(dpoplist[-2]) + abs(dpoplist[-3]) + abs(dpoplist[-4])\n",
    "            if rollingdpop < 2:\n",
    "                stable = True\n",
    "                \n",
    "        tick += 1\n",
    "        time.sleep(1/fps)\n",
    "        \n",
    "timelist = [i for i in range(tick)]        \n",
    "\n",
    "plt.plot(timelist, poplist)\n",
    "plt.show()"
   ]
  },
  {
   "cell_type": "code",
   "execution_count": null,
   "metadata": {},
   "outputs": [],
   "source": []
  }
 ],
 "metadata": {
  "kernelspec": {
   "display_name": "Python 3",
   "language": "python",
   "name": "python3"
  },
  "language_info": {
   "codemirror_mode": {
    "name": "ipython",
    "version": 3
   },
   "file_extension": ".py",
   "mimetype": "text/x-python",
   "name": "python",
   "nbconvert_exporter": "python",
   "pygments_lexer": "ipython3",
   "version": "3.10.5"
  }
 },
 "nbformat": 4,
 "nbformat_minor": 2
}
