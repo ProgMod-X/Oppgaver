{
 "cells": [
  {
   "cell_type": "markdown",
   "metadata": {},
   "source": [
    "# Valg 1.2"
   ]
  },
  {
   "cell_type": "markdown",
   "metadata": {},
   "source": [
    "## 1.2.1\n",
    "Lag et program som leser inn ett tall, og skriver ut absoluttverdien til tallet.\n",
    "Du kan ikke bruke funksjonen abs()."
   ]
  },
  {
   "cell_type": "code",
   "execution_count": null,
   "metadata": {},
   "outputs": [],
   "source": [
    "from math import sqrt\n",
    "\n",
    "tall = int(input(\"tall: \"))\n",
    "\n",
    "abs = sqrt(tall**2)\n",
    "\n",
    "\n",
    "print(\"absolut verdien av\", tall, \"er\", abs)"
   ]
  },
  {
   "cell_type": "markdown",
   "metadata": {},
   "source": [
    "## 1.2.2\n",
    "Lag et program der brukeren skal gjette et heltall. Tallet velger du og skriver i koden.\n",
    "\n",
    "Tilbakemeldingen til brukeren skal variere etter om:\n",
    "\n",
    "tallet er riktig\n",
    "\n",
    "tallet er lavere\n",
    "\n",
    "tallet er høyre"
   ]
  },
  {
   "cell_type": "code",
   "execution_count": null,
   "metadata": {},
   "outputs": [],
   "source": [
    "fasit = 32\n",
    "gjett = 0\n",
    "\n",
    "print(\"Prøv å gjett riktig tall!\\n\")\n",
    "\n",
    "while gjett != fasit:\n",
    "    gjett = int(input(\"velg et tall: \"))\n",
    "    \n",
    "    if gjett != fasit:\n",
    "        if gjett < fasit:\n",
    "            print(\"Større enn\", gjett)\n",
    "        elif gjett > fasit:\n",
    "            print(\"Mindre enn\", gjett)\n",
    "\n",
    "print(\"Du valgte riktig!\\nSvaret er\", fasit)"
   ]
  },
  {
   "cell_type": "markdown",
   "metadata": {},
   "source": [
    "## 1.2.3\n",
    "\n",
    "Lag et program der brukeren skal taste inn et heltall. Programmet skal opplyse om tallet er et partall eller et oddetall."
   ]
  },
  {
   "cell_type": "code",
   "execution_count": null,
   "metadata": {},
   "outputs": [],
   "source": [
    "valg = int(input(\"velg et tall: \"))\n",
    "\n",
    "print(\"valg:\", valg)\n",
    "\n",
    "if valg % 2 == 0:\n",
    "    print(\"Tallet er et partall\")\n",
    "else:\n",
    "    print(\"Tallet er et oddetall\")"
   ]
  },
  {
   "cell_type": "markdown",
   "metadata": {},
   "source": [
    "## 1.2.4\n",
    "\n",
    "Lag et “spill” basert på «sten,saks, papir» (eng.: «Rock-paper-scissors» ) der bruker skriver inn sitt valg og datamaskinen trekker tilfeldig. Brukeren skal få beskjed om hvem som vant (eventuelt uavgjort) og hvorfor.\n"
   ]
  },
  {
   "cell_type": "code",
   "execution_count": null,
   "metadata": {},
   "outputs": [],
   "source": [
    "from random import randint\n",
    "\n",
    "muligheter = [\"stein\", \"saks\", \"papir\"]\n",
    "valg = \"\"\n",
    "while not valg in muligheter:\n",
    "    valg = input(\"Velg: Stein, Saks eller Papir\").lower()\n",
    "\n",
    "print(\"Du valgte\", valg)\n",
    "\n",
    "valg_verdi = muligheter.index(valg)\n",
    "cpu_verdi = randint(0, 2)\n",
    "resultat_verdi = (valg_verdi - cpu_verdi) % 3\n",
    "\n",
    "print(\"CPU valgte\", muligheter[cpu_verdi])\n",
    "\n",
    "if resultat_verdi == 0:\n",
    "    print(\"Uavgjort.\")\n",
    "elif resultat_verdi == 1:\n",
    "    print(\"Du tapte.\")\n",
    "elif resultat_verdi == 2:\n",
    "    print(\"Du vant, hurra!\")"
   ]
  }
 ],
 "metadata": {
  "kernelspec": {
   "display_name": "Python 3",
   "language": "python",
   "name": "python3"
  },
  "language_info": {
   "codemirror_mode": {
    "name": "ipython",
    "version": 3
   },
   "file_extension": ".py",
   "mimetype": "text/x-python",
   "name": "python",
   "nbconvert_exporter": "python",
   "pygments_lexer": "ipython3",
   "version": "3.10.11"
  },
  "orig_nbformat": 4
 },
 "nbformat": 4,
 "nbformat_minor": 2
}
