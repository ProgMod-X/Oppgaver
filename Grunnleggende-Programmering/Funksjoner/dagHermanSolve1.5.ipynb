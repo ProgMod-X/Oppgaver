{
 "cells": [
  {
   "cell_type": "markdown",
   "metadata": {},
   "source": [
    "# Funksjoner"
   ]
  },
  {
   "cell_type": "markdown",
   "metadata": {},
   "source": [
    "## Oppgave 1.5.1\n",
    "    a) Lag en funksjon som krever én parameter, og returnerer verdi etter følgende matematiske funksjon: f(x) = x⋅x + 3 .\n",
    "    b) Lag et program som skriver ut verdiene av f(x)  for x mellom 1 og 15 . Programmet skal bruke en løkke og funksjonen du laget over."
   ]
  },
  {
   "cell_type": "code",
   "execution_count": 1,
   "metadata": {},
   "outputs": [
    {
     "name": "stdout",
     "output_type": "stream",
     "text": [
      "28\n"
     ]
    }
   ],
   "source": [
    "# a)\n",
    "\n",
    "def f(x):\n",
    "    return x**2 + 3\n",
    "\n",
    "print(f(5))"
   ]
  },
  {
   "cell_type": "code",
   "execution_count": 3,
   "metadata": {},
   "outputs": [
    {
     "name": "stdout",
     "output_type": "stream",
     "text": [
      "x = 1 \tf(x) = 4\n",
      "x = 2 \tf(x) = 7\n",
      "x = 3 \tf(x) = 12\n",
      "x = 4 \tf(x) = 19\n",
      "x = 5 \tf(x) = 28\n",
      "x = 6 \tf(x) = 39\n",
      "x = 7 \tf(x) = 52\n",
      "x = 8 \tf(x) = 67\n",
      "x = 9 \tf(x) = 84\n",
      "x = 10 \tf(x) = 103\n",
      "x = 11 \tf(x) = 124\n",
      "x = 12 \tf(x) = 147\n",
      "x = 13 \tf(x) = 172\n",
      "x = 14 \tf(x) = 199\n"
     ]
    }
   ],
   "source": [
    "# b)\n",
    "\n",
    "def f(x):\n",
    "    return x**2 + 3\n",
    "\n",
    "for i in range(1, 15):\n",
    "    print(\"x =\", i, \"\\tf(x) =\", f(i))"
   ]
  },
  {
   "cell_type": "markdown",
   "metadata": {},
   "source": [
    "## Oppgave 1.5.2\n",
    "Lag en funksjon som regner ut produktet av to heltall. Test funksjonen din."
   ]
  },
  {
   "cell_type": "code",
   "execution_count": 4,
   "metadata": {},
   "outputs": [
    {
     "name": "stdout",
     "output_type": "stream",
     "text": [
      "10\n"
     ]
    }
   ],
   "source": [
    "def produktAvToHeltall(a, b):\n",
    "    return a * b\n",
    "\n",
    "produkt = produktAvToHeltall(2, 5)\n",
    "print(produkt)"
   ]
  },
  {
   "cell_type": "markdown",
   "metadata": {},
   "source": [
    "## Oppgave 1.5.3\n",
    "Lag en funksjon som returnerer «Fornavn Etternavn» (med mellomrom) når funksjonen får gitt fornavn og etternavn som to parametre. Kall funksjonen toFullName."
   ]
  },
  {
   "cell_type": "code",
   "execution_count": 5,
   "metadata": {},
   "outputs": [
    {
     "name": "stdout",
     "output_type": "stream",
     "text": [
      "Dag Herman Øyerhamn\n"
     ]
    }
   ],
   "source": [
    "def toFullName(fornavn, etternavn):\n",
    "    return fornavn + \" \" + etternavn\n",
    "\n",
    "navn = toFullName(\"Dag Herman\", \"Øyerhamn\")\n",
    "print(navn)"
   ]
  },
  {
   "cell_type": "markdown",
   "metadata": {},
   "source": [
    "## Oppgave 1.5.4\n",
    "Lag en funksjon som kalkulerer kilojoule energi i mat etter følgende formel.\n",
    "E = 17⋅P + 38⋅F + 17⋅C\n",
    "\n",
    "P = protein, F = fett, C = karbohydrater\n",
    "\n",
    "Funksjonen tar tre parametre (mengde i gram) og returnerer én verdi – energi i kilojoule (kJ)\n",
    "\n",
    "Lag et program der brukeren kan oppgi mengde protein, fett og karbohydrater, og få utregnet energimengden i maten. Bruk funksjonen du laget over"
   ]
  },
  {
   "cell_type": "code",
   "execution_count": 9,
   "metadata": {},
   "outputs": [
    {
     "name": "stdout",
     "output_type": "stream",
     "text": [
      "1015 kilojoule\n"
     ]
    }
   ],
   "source": [
    "def toKilojoule(protein, fett, karbohydrater):\n",
    "    return protein * 17 + fett * 38 + karbohydrater * 17\n",
    "\n",
    "energi = toKilojoule(10, 20, 5)\n",
    "print(energi, \"kilojoule\")"
   ]
  },
  {
   "cell_type": "markdown",
   "metadata": {},
   "source": [
    "## Oppgave 1.5.5\n",
    "<details>\n",
    "  <summary>Forklaring av fakultet</summary>\n",
    "  \n",
    "n! leses “n-fakultet”, og er en matematisk funksjon som bestemmer på hvor mange måter vi kan stille opp n elementer når rekkefølgen har en betydning. I tilfeller som dette, der rekkefølgen er av betydning, snakker vi om antallet ulike permutasjoner (permutations).\n",
    "\n",
    "Eksempelvis kan Per, Pål og Ola stilles opp langs en vegg på 3! = 6 måter som følger:\n",
    "\n",
    "Per, Pål, Ola\n",
    "\n",
    "Pål, Per, Ola\n",
    "\n",
    "Pål, Ola, Per\n",
    "\n",
    "Per, Ola, Pål\n",
    "\n",
    "Ola, Per, Pål\n",
    "\n",
    "Ola, Pål, Per\n",
    "\n",
    "Det finnes med andre ord 6 permutasjoner av en mengde med 3 elementer.\n",
    "\n",
    "n! fakultet beregnes som slik:\n",
    "\n",
    "0! = 1\n",
    "\n",
    "per definisjon\n",
    "\n",
    "1! = 1\n",
    "\n",
    "\n",
    "2! = 1 · 2\n",
    "\n",
    "\n",
    "3! = 1 · 2 · 3\n",
    "\n",
    "\n",
    "n! = 1 · 2  · ⋯  · (n - 1) · n\n",
    "</details>\n",
    "\n",
    "Skriv en funksjon factorial(n) som beregner og returnerer n! basert på logikken over.\n",
    "\n",
    "Test funksjonen din med ulike verdier for n og sammenlign med svaret du får i CAS.\n",
    "\n"
   ]
  },
  {
   "cell_type": "code",
   "execution_count": 15,
   "metadata": {},
   "outputs": [
    {
     "name": "stdout",
     "output_type": "stream",
     "text": [
      "4! = 24\n"
     ]
    }
   ],
   "source": [
    "def factorial(n):\n",
    "    produkt = 1\n",
    "    i = 1\n",
    "    while i <= n:\n",
    "        produkt *= i\n",
    "        i += 1\n",
    "    return produkt\n",
    "\n",
    "print(\"4! =\", factorial(4))"
   ]
  },
  {
   "cell_type": "markdown",
   "metadata": {},
   "source": [
    "## Oppgave 1.5.6\n",
    "Uten å bruke de innebygde funksjonene min() og max();\n",
    "\n",
    "Lag en funksjon  minst()  som returnerer det minste av to tall.\n",
    "Test funksjonen din.\n",
    "\n",
    "Lag en funksjon  stoerst()  som returnerer det største av to tall\n",
    "Test funksjonen din.\n"
   ]
  },
  {
   "cell_type": "code",
   "execution_count": 18,
   "metadata": {},
   "outputs": [
    {
     "name": "stdout",
     "output_type": "stream",
     "text": [
      "5\n",
      "5\n",
      "5\n",
      "6\n",
      "7\n",
      "8\n",
      "9\n"
     ]
    }
   ],
   "source": [
    "def minst(a, b):\n",
    "    if a < b:\n",
    "        return b\n",
    "    else:\n",
    "        return a\n",
    "\n",
    "c = 5\n",
    "for i in range(3, 10):\n",
    "    print(minst(c, i))\n"
   ]
  },
  {
   "cell_type": "code",
   "execution_count": 21,
   "metadata": {},
   "outputs": [
    {
     "name": "stdout",
     "output_type": "stream",
     "text": [
      "0\n",
      "1\n",
      "2\n",
      "3\n",
      "3\n",
      "3\n"
     ]
    }
   ],
   "source": [
    "def storst(a, b):\n",
    "    if a > b:\n",
    "        return b\n",
    "    else:\n",
    "        return a\n",
    "\n",
    "c = 3\n",
    "for i in range(6):\n",
    "    print(storst(c, i))"
   ]
  },
  {
   "cell_type": "markdown",
   "metadata": {},
   "source": [
    "## Oppgave 1.5.7\n",
    "Lag en funksjon som sjekker om et tall er et partall. Funksjonen skal returnere True hvis tallet er et partall og False hvis ikke. Test funksjonen din.\n",
    "\n",
    "Lag en funksjon som sjekker om et tall er et oddetall. Funksjonen skal returnere True hvis tallet er et oddetall og False hvis ikke. Test funksjonen din."
   ]
  },
  {
   "cell_type": "code",
   "execution_count": 23,
   "metadata": {},
   "outputs": [
    {
     "name": "stdout",
     "output_type": "stream",
     "text": [
      "0 is even True is odd False\n",
      "1 is even False is odd True\n",
      "2 is even True is odd False\n",
      "3 is even False is odd True\n",
      "4 is even True is odd False\n",
      "5 is even False is odd True\n"
     ]
    }
   ],
   "source": [
    "def isEven(n):\n",
    "    return n % 2 == 0\n",
    "\n",
    "def isOdd(n):\n",
    "    return n % 2 == 1\n",
    "\n",
    "for i in range(6):\n",
    "    print(i, \"is even\", isEven(i), \"is odd\", isOdd(i))"
   ]
  },
  {
   "cell_type": "markdown",
   "metadata": {},
   "source": [
    "## Oppgave 1.5.8\n",
    "Lag en funksjon som returnerer et gitt antall stjerner (*) som en streng.\n",
    "\n",
    "Eksempelvis skal stars(5) returnere strengen *****.\n",
    "\n",
    "Bruk funksjonen din inne i én løkke til å skrive ut følgende bilde:\n",
    "\n",
    "        *\n",
    "        **\n",
    "        ***\n",
    "        ****\n",
    "        *****"
   ]
  },
  {
   "cell_type": "code",
   "execution_count": 28,
   "metadata": {},
   "outputs": [
    {
     "name": "stdout",
     "output_type": "stream",
     "text": [
      "*\n",
      "**\n",
      "***\n",
      "****\n",
      "*****\n"
     ]
    }
   ],
   "source": [
    "def stars(n):\n",
    "    return \"*\" * n\n",
    "\n",
    "for i in range(1, 6):\n",
    "    print(stars(i))"
   ]
  },
  {
   "attachments": {
    "image.png": {
     "image/png": "[encoded data removed]"
    }
   },
   "cell_type": "markdown",
   "metadata": {},
   "source": [
    "## Oppgave 1.5.9\n",
    "potenser\n",
    "\n",
    "Lag en funksjon med to parametre (a, b) som regner ut b'te potensen ( ab ) av et tall a - uten å bruke innebygd potensfunksjonalitet..\n",
    "\n",
    "![image.png](attachment:image.png)\n",
    "\n",
    "For enkelhet skyld begrenser vi oss til heltallspontenser. (Start også kun med positive tall og 0 for b.)"
   ]
  },
  {
   "cell_type": "code",
   "execution_count": 29,
   "metadata": {},
   "outputs": [
    {
     "name": "stdout",
     "output_type": "stream",
     "text": [
      "0 ** 3 python: 0 mine: 0\n",
      "1 ** 3 python: 1 mine: 1\n",
      "2 ** 3 python: 8 mine: 8\n",
      "3 ** 3 python: 27 mine: 27\n",
      "4 ** 3 python: 64 mine: 64\n",
      "5 ** 3 python: 125 mine: 125\n",
      "6 ** 3 python: 216 mine: 216\n",
      "7 ** 3 python: 343 mine: 343\n",
      "8 ** 3 python: 512 mine: 512\n",
      "9 ** 3 python: 729 mine: 729\n"
     ]
    }
   ],
   "source": [
    "def power(a, b):\n",
    "    if b < 0:\n",
    "        return 0\n",
    "    \n",
    "    power = 1\n",
    "    i = 0\n",
    "    while i < b:\n",
    "        power *= a\n",
    "        i += 1\n",
    "    return power\n",
    "\n",
    "for i in range(10):\n",
    "    print(i, \"** 3\", \"python:\", i ** 3, \"mine:\", power(i, 3))"
   ]
  },
  {
   "cell_type": "markdown",
   "metadata": {},
   "source": [
    "## Oppgave 1.5.10\n",
    "Multiplikasjon introduseres ofte som gjentatt addisjon.\n",
    "\n",
    "    5 ⋅ 3 = 3 + 3 + 3 + 3 + 3 = 15\n",
    "\n",
    "Når vi multipliserer kun to tall som over, har faktorene egne navn. Den venstre faktoren kalles multiplikand og den høyre multiplikator. Men, den kommutative lov sier at \"faktorenes orden er likegyldig\", og vi har dermed at 5 ⋅ 3 = 3 ⋅ 5 = 15.\n",
    "\n",
    "Skriv et program som bruker en løkke og addisjon til å beregne produktet av to tall."
   ]
  },
  {
   "cell_type": "code",
   "execution_count": 36,
   "metadata": {},
   "outputs": [
    {
     "name": "stdout",
     "output_type": "stream",
     "text": [
      "i * 3\n",
      "-5 * 3 \tpython: -15 \tmine: -15\n",
      "-4 * 3 \tpython: -12 \tmine: -12\n",
      "-3 * 3 \tpython: -9 \tmine: -9\n",
      "-2 * 3 \tpython: -6 \tmine: -6\n",
      "-1 * 3 \tpython: -3 \tmine: -3\n",
      "0 * 3 \tpython: 0 \tmine: 0\n",
      "1 * 3 \tpython: 3 \tmine: 3\n",
      "2 * 3 \tpython: 6 \tmine: 6\n",
      "3 * 3 \tpython: 9 \tmine: 9\n",
      "4 * 3 \tpython: 12 \tmine: 12\n",
      "\n",
      "3 * i\n",
      "3 * -5 \tpython: -15 \tmine: -15\n",
      "3 * -4 \tpython: -12 \tmine: -12\n",
      "3 * -3 \tpython: -9 \tmine: -9\n",
      "3 * -2 \tpython: -6 \tmine: -6\n",
      "3 * -1 \tpython: -3 \tmine: -3\n",
      "3 * 0 \tpython: 0 \tmine: 0\n",
      "3 * 1 \tpython: 3 \tmine: 3\n",
      "3 * 2 \tpython: 6 \tmine: 6\n",
      "3 * 3 \tpython: 9 \tmine: 9\n",
      "3 * 4 \tpython: 12 \tmine: 12\n"
     ]
    }
   ],
   "source": [
    "def multiplication(a, b):\n",
    "    product = 0\n",
    "    i = 0\n",
    "    while i < abs(b):\n",
    "        product += a\n",
    "        i += 1\n",
    "    \n",
    "    if (a < 0 or b < 0) and (not a < 0 and b < 0):\n",
    "        return product * -1\n",
    "    else:\n",
    "        return product\n",
    "\n",
    "print(\"i * 3\")\n",
    "for i in range(-5, 5):\n",
    "    print(i, \"* 3\", \"\\tpython:\", i * 3, \"\\tmine:\", multiplication(i, 3))\n",
    "\n",
    "print(\"\\n3 * i\")\n",
    "for i in range(-5, 5):\n",
    "    print(\"3 *\", i, \"\\tpython:\", 3 * i, \"\\tmine:\", multiplication(3, i))"
   ]
  }
 ],
 "metadata": {
  "kernelspec": {
   "display_name": "Python 3",
   "language": "python",
   "name": "python3"
  },
  "language_info": {
   "codemirror_mode": {
    "name": "ipython",
    "version": 3
   },
   "file_extension": ".py",
   "mimetype": "text/x-python",
   "name": "python",
   "nbconvert_exporter": "python",
   "pygments_lexer": "ipython3",
   "version": "3.9.1"
  },
  "orig_nbformat": 4
 },
 "nbformat": 4,
 "nbformat_minor": 2
}
