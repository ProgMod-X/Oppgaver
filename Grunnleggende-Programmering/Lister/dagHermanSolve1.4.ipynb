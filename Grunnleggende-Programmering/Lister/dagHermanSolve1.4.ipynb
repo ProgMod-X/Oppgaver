{
 "cells": [
  {
   "cell_type": "markdown",
   "metadata": {},
   "source": [
    "# Lister"
   ]
  },
  {
   "cell_type": "markdown",
   "metadata": {},
   "source": [
    "## Oppgave 1.4.1\n",
    "Lag en liste med navn person bestående av navnene på 5 personer du kjenner alderen til. Husk anførselstregn rundt tekst.\n",
    "\n",
    "Lag en liste med navn age bestående av alderen til de fem personene du la inn i sted. Pass på at rekkefølgen er den samme.\n",
    "\n",
    "Skriv ut følgende for alle personene ved hjelp av en løkke:\n",
    "\n",
    "______ er __ år gammel."
   ]
  },
  {
   "cell_type": "code",
   "execution_count": 4,
   "metadata": {},
   "outputs": [
    {
     "name": "stdout",
     "output_type": "stream",
     "text": [
      "Dag Herman er 17 år gammel.\n",
      "Theodor er 16 år gammel.\n",
      "Kong Harald er 86 år gammel.\n",
      "Abel er 17 år gammel.\n",
      "Kåre er 50 år gammel.\n"
     ]
    }
   ],
   "source": [
    "person = [\"Dag Herman\", \"Theodor\", \"Kong Harald\", \"Abel\", \"Kåre\"]\n",
    "age = [17, 16, 86, 17, 50]\n",
    "\n",
    "for i in range(len(person)):\n",
    "    print(person[i], \"er\", age[i], \"år gammel.\")"
   ]
  },
  {
   "cell_type": "markdown",
   "metadata": {},
   "source": [
    "## Oppgave 1.4.2\n",
    "\n",
    "Lag et program som fyller en liste med tilfeldige tall mellom fra og med 1 til og med 100.\n",
    "\n",
    "Programmet skal deretter\n",
    "\n",
    "    Beregne gjennomsnittet\n",
    "    Finne største og minste verdi\n",
    "    Eksempel på utskrift:\n",
    "\n",
    "    Values: 86, 81, 17, 62, 36, 13, 79, 32, 46, 60\n",
    "    Mean:   51.2\n",
    "    Min:    13\n",
    "    Max:    86"
   ]
  },
  {
   "cell_type": "code",
   "execution_count": 5,
   "metadata": {},
   "outputs": [
    {
     "name": "stdout",
     "output_type": "stream",
     "text": [
      "Values: [21, 22, 96, 56, 30, 87, 7, 62, 78, 96] \n",
      "Average: 55.5 \n",
      "Min: 7 \n",
      "Max: 96\n"
     ]
    }
   ],
   "source": [
    "from random import randint\n",
    "\n",
    "values = []\n",
    "\n",
    "for i in range(10):\n",
    "    values.append(randint(1, 100))\n",
    "\n",
    "# Finner sum av verdier, for å kunne finne gjennomsnitt\n",
    "sum = 0\n",
    "for value in values:\n",
    "    sum += value\n",
    "\n",
    "# Regner ut gjennomsnitt\n",
    "average = sum / len(values)\n",
    "\n",
    "max = max(values)\n",
    "\n",
    "min = min(values)\n",
    "\n",
    "print(\"Values:\", values, \"\\nAverage:\", average, \"\\nMin:\", min, \"\\nMax:\", max)\n"
   ]
  }
 ],
 "metadata": {
  "kernelspec": {
   "display_name": "Python 3",
   "language": "python",
   "name": "python3"
  },
  "language_info": {
   "codemirror_mode": {
    "name": "ipython",
    "version": 3
   },
   "file_extension": ".py",
   "mimetype": "text/x-python",
   "name": "python",
   "nbconvert_exporter": "python",
   "pygments_lexer": "ipython3",
   "version": "3.9.1"
  },
  "orig_nbformat": 4
 },
 "nbformat": 4,
 "nbformat_minor": 2
}
