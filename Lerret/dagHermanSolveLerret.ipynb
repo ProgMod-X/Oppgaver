{
 "cells": [
  {
   "cell_type": "markdown",
   "metadata": {},
   "source": [
    "# Lerret"
   ]
  },
  {
   "cell_type": "markdown",
   "metadata": {},
   "source": [
    "## Flagg med rektangler"
   ]
  },
  {
   "cell_type": "markdown",
   "metadata": {},
   "source": [
    "### Oppgave 1\n",
    "\n",
    "![Alt text](image.png)"
   ]
  },
  {
   "cell_type": "code",
   "execution_count": 9,
   "metadata": {},
   "outputs": [
    {
     "data": {
      "application/vnd.jupyter.widget-view+json": {
       "model_id": "378015ed21ec42ff8f2b19cfc795e285",
       "version_major": 2,
       "version_minor": 0
      },
      "text/plain": [
       "Canvas(height=200, width=300)"
      ]
     },
     "metadata": {},
     "output_type": "display_data"
    }
   ],
   "source": [
    "from ipycanvas import canvas\n",
    "\n",
    "canvas = canvas.Canvas(width= 300, height=200)\n",
    "\n",
    "canvas.fill_style = \"#0057b7\"\n",
    "canvas.fill_rect(0, 0, 300, 100)\n",
    "canvas.fill_style = \"#FFD700\"\n",
    "canvas.fill_rect(0, 100, 300, 100)\n",
    "\n",
    "display(canvas)"
   ]
  },
  {
   "cell_type": "markdown",
   "metadata": {},
   "source": [
    "### Oppgave 2\n",
    "![Alt text](image-1.png)"
   ]
  },
  {
   "cell_type": "code",
   "execution_count": 23,
   "metadata": {},
   "outputs": [
    {
     "data": {
      "application/vnd.jupyter.widget-view+json": {
       "model_id": "ab8120f5ade34f1584285b1a147cdc8c",
       "version_major": 2,
       "version_minor": 0
      },
      "text/plain": [
       "Canvas(height=160, width=220)"
      ]
     },
     "metadata": {},
     "output_type": "display_data"
    }
   ],
   "source": [
    "from ipycanvas import canvas\n",
    "\n",
    "canvas = canvas.Canvas(width= 220, height=160)\n",
    "\n",
    "# tegner de røde rektanglene\n",
    "canvas.fill_style = \"#ba0c2f\"\n",
    "canvas.fill_rect(0, 0, 60, 60)\n",
    "canvas.fill_rect(0, 100, 60, 60)\n",
    "canvas.fill_rect(100, 0, 120, 60)\n",
    "canvas.fill_rect(100, 100, 120, 60)\n",
    "\n",
    "# tegner det blå korset\n",
    "canvas.fill_style = \"#00205b\"\n",
    "canvas.fill_rect(0, 70, 220, 20)\n",
    "canvas.fill_rect(70, 00, 20, 160)\n",
    "\n",
    "display(canvas)"
   ]
  },
  {
   "cell_type": "markdown",
   "metadata": {},
   "source": [
    "## Bruk av løkker"
   ]
  },
  {
   "cell_type": "markdown",
   "metadata": {},
   "source": [
    "### Oppgave\n",
    "Bruk én løkke til å tegne følgende bilde. Du får kun lov å bruke funksjonen canvas.stroke_line(x1, y1, x2, y2) line én gang i koden din.\n",
    "![Alt text](image-2.png)"
   ]
  },
  {
   "cell_type": "code",
   "execution_count": 27,
   "metadata": {},
   "outputs": [
    {
     "data": {
      "application/vnd.jupyter.widget-view+json": {
       "model_id": "a393faf1d29e44ba834ab524b81204fc",
       "version_major": 2,
       "version_minor": 0
      },
      "text/plain": [
       "Canvas(height=200, width=200)"
      ]
     },
     "metadata": {},
     "output_type": "display_data"
    }
   ],
   "source": [
    "from ipycanvas import canvas\n",
    "\n",
    "canvas = canvas.Canvas(width= 200, height=200)\n",
    "\n",
    "for i in range(10):\n",
    "    canvas.stroke_line(0, 0, 200, i * 20)\n",
    "\n",
    "display(canvas)"
   ]
  },
  {
   "cell_type": "markdown",
   "metadata": {},
   "source": [
    "### Oppgave\n",
    "Vi tegner rektangler med funksjonen canvas.stroke_rect(x, y, width, height).\n",
    "\n",
    "![Alt text](image-3.png)"
   ]
  },
  {
   "cell_type": "code",
   "execution_count": 29,
   "metadata": {},
   "outputs": [
    {
     "data": {
      "application/vnd.jupyter.widget-view+json": {
       "model_id": "f5a2ea82a40c43549ed12b61b4ad4a5d",
       "version_major": 2,
       "version_minor": 0
      },
      "text/plain": [
       "Canvas(height=200, width=200)"
      ]
     },
     "metadata": {},
     "output_type": "display_data"
    }
   ],
   "source": [
    "from ipycanvas import canvas\n",
    "\n",
    "canvas = canvas.Canvas(width= 200, height=200)\n",
    "\n",
    "for i in range(10):\n",
    "    canvas.stroke_rect(0, 0, i * 20, i * 20)\n",
    "\n",
    "display(canvas)"
   ]
  },
  {
   "cell_type": "markdown",
   "metadata": {},
   "source": [
    "### Oppgave\n",
    "Vi tegner en sirkel med sentrum i (x, y) og gitt radius med funksjonen\n",
    "canvas.stroke_circle(x, y, radius).\n",
    "\n",
    "![Alt text](image-4.png)"
   ]
  },
  {
   "cell_type": "code",
   "execution_count": 36,
   "metadata": {},
   "outputs": [
    {
     "data": {
      "application/vnd.jupyter.widget-view+json": {
       "model_id": "9dd008f638c24ecc94b94b0a4471e716",
       "version_major": 2,
       "version_minor": 0
      },
      "text/plain": [
       "Canvas(height=200, width=200)"
      ]
     },
     "metadata": {},
     "output_type": "display_data"
    }
   ],
   "source": [
    "from ipycanvas import canvas\n",
    "\n",
    "canvas = canvas.Canvas(width= 200, height=200)\n",
    "\n",
    "for i in range(10):\n",
    "    r = i * 10\n",
    "    canvas.stroke_circle(r, 100, r)\n",
    "\n",
    "display(canvas)"
   ]
  },
  {
   "cell_type": "markdown",
   "metadata": {},
   "source": [
    "### Oppgave\n",
    "For å trekke et tilfeldig tall må vi importere biblioteket random. Funksjonen random.randint(a, b) gir deg et tilfeldig heltall i intervallet [a, b].\n",
    "\n",
    "\n",
    "Bildet skal tegnes ved å generere 500 rektangler, hver med tilfeldig valgt posisjon, dimensjoner og farge ( bruk rgb(0-255,0-255,0-255) ).\n",
    "\n",
    "\n",
    "For å bygge en fargestreng, må vi kombinere tall og tekst. GItt verdiene for r, g og b for rød grønn og blå, bygger vi strengen som følger:\n",
    "\n",
    "   fargestreng = \"rgb(\" + str(r) + \",\" + str(g) + \",\" + str(b) + \")\"\n",
    "\n",
    "![Alt text](image-5.png)"
   ]
  },
  {
   "cell_type": "code",
   "execution_count": 41,
   "metadata": {},
   "outputs": [
    {
     "data": {
      "application/vnd.jupyter.widget-view+json": {
       "model_id": "e023d27c4fc04d54a8a24b352767e2a2",
       "version_major": 2,
       "version_minor": 0
      },
      "text/plain": [
       "Canvas(height=200, width=200)"
      ]
     },
     "metadata": {},
     "output_type": "display_data"
    }
   ],
   "source": [
    "from ipycanvas import canvas\n",
    "from random import randint\n",
    "\n",
    "canvas = canvas.Canvas(width= 200, height=200)\n",
    "\n",
    "for i in range(500):\n",
    "    r = randint(0, 255)\n",
    "    g = randint(0, 255)\n",
    "    b = randint(0, 255)\n",
    "\n",
    "    fargestreng = \"rgb(\" + str(r) + \",\" + str(g) + \",\" + str(b) + \")\"\n",
    "    canvas.fill_style = fargestreng\n",
    "    canvas.fill_rect(randint(0, 200), randint(0, 200), randint(0, 200), randint(0, 200))\n",
    "\n",
    "display(canvas)"
   ]
  },
  {
   "cell_type": "markdown",
   "metadata": {},
   "source": [
    "## Bruk av nøstede løkker og valg"
   ]
  },
  {
   "cell_type": "markdown",
   "metadata": {},
   "source": [
    "### Oppgave\n",
    "Tegn de figuren under med en størrelse på 100x100. Du skal kun bruke funksjonen for å tegne rektangler én gang i koden din, men tegne både hvite og sorte rektangler.\n",
    "\n",
    "![Alt text](image-6.png)"
   ]
  },
  {
   "cell_type": "code",
   "execution_count": 50,
   "metadata": {},
   "outputs": [
    {
     "data": {
      "application/vnd.jupyter.widget-view+json": {
       "model_id": "f007280573de4dcea57a0d4199c975a4",
       "version_major": 2,
       "version_minor": 0
      },
      "text/plain": [
       "Canvas(height=100, width=100)"
      ]
     },
     "metadata": {},
     "output_type": "display_data"
    }
   ],
   "source": [
    "from ipycanvas import canvas\n",
    "\n",
    "canvas = canvas.Canvas(width= 100, height=100)\n",
    "\n",
    "for i in range(10):\n",
    "    for j in range(10):\n",
    "        if j % 2 == 0:\n",
    "            a = i\n",
    "        else:\n",
    "            a = i + 1\n",
    "        if a % 2 == 0:\n",
    "            canvas.fill_rect(i * 10, j * 10, 10, 10)\n",
    "\n",
    "\n",
    "display(canvas)"
   ]
  }
 ],
 "metadata": {
  "kernelspec": {
   "display_name": "Python 3",
   "language": "python",
   "name": "python3"
  },
  "language_info": {
   "codemirror_mode": {
    "name": "ipython",
    "version": 3
   },
   "file_extension": ".py",
   "mimetype": "text/x-python",
   "name": "python",
   "nbconvert_exporter": "python",
   "pygments_lexer": "ipython3",
   "version": "3.10.11"
  },
  "orig_nbformat": 4
 },
 "nbformat": 4,
 "nbformat_minor": 2
}
