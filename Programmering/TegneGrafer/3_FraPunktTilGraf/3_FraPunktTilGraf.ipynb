{
 "cells": [
  {
   "cell_type": "markdown",
   "metadata": {},
   "source": [
    "# Fra punkt til graf"
   ]
  },
  {
   "cell_type": "markdown",
   "metadata": {},
   "source": [
    "Vi skal her plotte (tegne) funksjonen $ f\\left(x \\right) = x^{2} + 2 $. "
   ]
  },
  {
   "cell_type": "markdown",
   "metadata": {},
   "source": [
    "Vi starter med å importere biblioteket <code>pyplot</code>."
   ]
  },
  {
   "cell_type": "code",
   "execution_count": 1,
   "metadata": {},
   "outputs": [],
   "source": [
    "import matplotlib.pyplot as plt"
   ]
  },
  {
   "cell_type": "markdown",
   "metadata": {},
   "source": [
    "Vi trenger to lister, én til _x_-verdier og én til _y_-verdier."
   ]
  },
  {
   "cell_type": "code",
   "execution_count": 2,
   "metadata": {},
   "outputs": [],
   "source": [
    "x_liste = []\n",
    "y_liste = []"
   ]
  },
  {
   "cell_type": "markdown",
   "metadata": {},
   "source": [
    "Løkken under skal du selv forklare, se oppgave a)."
   ]
  },
  {
   "cell_type": "code",
   "execution_count": 3,
   "metadata": {},
   "outputs": [],
   "source": [
    "x = -5\n",
    "while x <= 5:\n",
    "    y = x**2 + 2\n",
    "    \n",
    "    x_liste.append(x)\n",
    "    y_liste.append(y)\n",
    "    \n",
    "    x += 1"
   ]
  },
  {
   "cell_type": "markdown",
   "metadata": {},
   "source": [
    "Til slutt tegner vi punktene."
   ]
  },
  {
   "cell_type": "code",
   "execution_count": 4,
   "metadata": {
    "scrolled": false
   },
   "outputs": [
    {
     "data": {
      "image/png": "[encoded data removed]",
      "text/plain": [
       "<Figure size 432x288 with 1 Axes>"
      ]
     },
     "metadata": {
      "needs_background": "light"
     },
     "output_type": "display_data"
    }
   ],
   "source": [
    "plt.plot(x_liste, y_liste, \"o\")\n",
    "plt.show()"
   ]
  },
  {
   "cell_type": "markdown",
   "metadata": {},
   "source": [
    "## Oppgaver\n",
    "Husk å kjøre hele siden på nytt med ⏩ etter at du har gjort en endring.\n",
    "### a)\n",
    "Forklar med egne ord hva som skjer i <code>while</code>-løkken over."
   ]
  },
  {
   "cell_type": "markdown",
   "metadata": {},
   "source": [
    ">"
   ]
  },
  {
   "cell_type": "markdown",
   "metadata": {},
   "source": [
    "### b) \n",
    "Kommandoen <code>x += 1</code> øker x-verdien med 1. Endre koden slik at _x_ nå kun økes med\n",
    "\n",
    "- 0.5\n",
    "- 0.1\n",
    "- 0.01\n",
    "\n",
    "Hva representerer dette tallet?\n",
    "Hva skjer etterhvert som tallet blir mindre?"
   ]
  },
  {
   "cell_type": "markdown",
   "metadata": {},
   "source": [
    ">"
   ]
  },
  {
   "cell_type": "markdown",
   "metadata": {},
   "source": [
    "### c)\n",
    "Still tilbake økningen av x-verdien til 1. Endre innstillingen i <code>.plot()</code> til <code>'o-'</code>. Prøv så med bare <code>'-'</code>. \n",
    "\n",
    "Endre økingen av _x_-verdien slik at grafen ikke lengre er \"kantete\"."
   ]
  },
  {
   "cell_type": "markdown",
   "metadata": {},
   "source": [
    " \n",
    "  \n",
    "  "
   ]
  }
 ],
 "metadata": {
  "kernelspec": {
   "display_name": "Python 3",
   "language": "python",
   "name": "python3"
  },
  "language_info": {
   "codemirror_mode": {
    "name": "ipython",
    "version": 3
   },
   "file_extension": ".py",
   "mimetype": "text/x-python",
   "name": "python",
   "nbconvert_exporter": "python",
   "pygments_lexer": "ipython3",
   "version": "3.8.5"
  }
 },
 "nbformat": 4,
 "nbformat_minor": 4
}
