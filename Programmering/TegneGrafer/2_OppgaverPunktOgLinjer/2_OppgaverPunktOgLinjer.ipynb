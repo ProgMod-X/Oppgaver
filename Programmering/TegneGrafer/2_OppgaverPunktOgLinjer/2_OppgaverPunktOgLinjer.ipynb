{
 "cells": [
  {
   "cell_type": "markdown",
   "metadata": {},
   "source": [
    "# Oppgaver med punkt og linjer"
   ]
  },
  {
   "cell_type": "markdown",
   "metadata": {},
   "source": [
    "## Oppgave 1\n",
    "Tegn 100 tilfeldige punkter, der både _x_- og _y_-verdiene ligger i intervallet $[0,100>$.\n",
    "\n",
    "<details>\n",
    "    <summary style=\"color:green;\">🛈 Klikk her for et hint</summary>\n",
    "    Vi trekker et tilfeldig heltall med funksjonen <code>randint(start,slutt)</code>.\n",
    "    For å bruke denne funksjonen må du importere biblioteket <code>random</code>.\n",
    "</details>"
   ]
  },
  {
   "cell_type": "code",
   "execution_count": null,
   "metadata": {},
   "outputs": [],
   "source": []
  },
  {
   "cell_type": "markdown",
   "metadata": {},
   "source": [
    "## Oppgave 2\n",
    "Tegn 500 tilfeldige linjer. Hver linje skal trekkes mellom to punkter, der _x_-verdien skal ligge i intervallet $[0, 320>$ og _y_-verdien skal ligge i intervallet $[0,200>$.\n",
    "\n",
    "\n",
    "<details>\n",
    "    <summary style=\"color:green;\">🛈 Klikk her for et hint</summary>\n",
    "    Her må du tegne en og en linje inne i en løkke.\n",
    "</details>"
   ]
  },
  {
   "cell_type": "code",
   "execution_count": null,
   "metadata": {},
   "outputs": [],
   "source": []
  }
 ],
 "metadata": {
  "kernelspec": {
   "display_name": "Python 3 (ipykernel)",
   "language": "python",
   "name": "python3"
  },
  "language_info": {
   "codemirror_mode": {
    "name": "ipython",
    "version": 3
   },
   "file_extension": ".py",
   "mimetype": "text/x-python",
   "name": "python",
   "nbconvert_exporter": "python",
   "pygments_lexer": "ipython3",
   "version": "3.10.8"
  }
 },
 "nbformat": 4,
 "nbformat_minor": 4
}
