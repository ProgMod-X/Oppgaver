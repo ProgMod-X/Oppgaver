{
 "cells": [
  {
   "cell_type": "markdown",
   "metadata": {},
   "source": [
    "# Definisjons og verdimengde\n",
    "## Eksempel\n",
    "> Tegn grafen til  $f\\left(x \\right) = \\frac{1}{3} \\; x^{3} - x^{2} + 2$ for definisjonsmengden $-2 \\leq x \\leq 3$. Bestem verdimengden til $f$."
   ]
  },
  {
   "cell_type": "markdown",
   "metadata": {},
   "source": [
    "Importerer grafbiblioteket, og lager to tomme lister."
   ]
  },
  {
   "cell_type": "code",
   "execution_count": 1,
   "metadata": {},
   "outputs": [],
   "source": [
    "import matplotlib.pyplot as plt\n",
    "\n",
    "x_liste = []\n",
    "y_liste = []"
   ]
  },
  {
   "cell_type": "markdown",
   "metadata": {},
   "source": [
    "Siden definisjonsmengden er $-2 \\leq x \\leq 3$, starter løkken på -2 og kjører til og med 3. "
   ]
  },
  {
   "cell_type": "code",
   "execution_count": 2,
   "metadata": {},
   "outputs": [],
   "source": [
    "x = -2\n",
    "while x <= 3:\n",
    "    y = 1/3 * x**3 - x**2 + 2\n",
    "    \n",
    "    x_liste.append(x)\n",
    "    y_liste.append(y)\n",
    "    \n",
    "    x += 0.1"
   ]
  },
  {
   "cell_type": "markdown",
   "metadata": {},
   "source": [
    "Tegner grafen til $f$."
   ]
  },
  {
   "cell_type": "code",
   "execution_count": 3,
   "metadata": {},
   "outputs": [
    {
     "data": {
      "image/png": "[encoded data removed]",
      "text/plain": [
       "<Figure size 432x288 with 1 Axes>"
      ]
     },
     "metadata": {
      "needs_background": "light"
     },
     "output_type": "display_data"
    }
   ],
   "source": [
    "plt.plot(x_liste, y_liste, \"-m\")\n",
    "plt.show()"
   ]
  },
  {
   "cell_type": "markdown",
   "metadata": {},
   "source": [
    "Finner minste og største _y_-verdi."
   ]
  },
  {
   "cell_type": "code",
   "execution_count": 4,
   "metadata": {},
   "outputs": [
    {
     "name": "stdout",
     "output_type": "stream",
     "text": [
      "-4.666666666666666\n"
     ]
    }
   ],
   "source": [
    "minste_y  = min(y_liste)\n",
    "print(minste_y)"
   ]
  },
  {
   "cell_type": "code",
   "execution_count": 5,
   "metadata": {},
   "outputs": [
    {
     "name": "stdout",
     "output_type": "stream",
     "text": [
      "2.0\n"
     ]
    }
   ],
   "source": [
    "største_y = max(y_liste)\n",
    "print(største_y)"
   ]
  },
  {
   "cell_type": "markdown",
   "metadata": {},
   "source": [
    "Verdimengden til $g$ er $-4.67 < y < 2$."
   ]
  },
  {
   "cell_type": "markdown",
   "metadata": {},
   "source": [
    "## Oppgave 1\n",
    "Funksjonen $f$ er gitt ved $f(x) = (x-1)(x-4)$ og har definisjonsmengden $D_f = [-1, 5]$.\n",
    "- Tegn grafen til $f$.\n",
    "- Bestem verdimengden til $f$, $V_f$."
   ]
  },
  {
   "cell_type": "code",
   "execution_count": null,
   "metadata": {},
   "outputs": [],
   "source": []
  },
  {
   "cell_type": "markdown",
   "metadata": {},
   "source": [
    "## Oppgave 2\n",
    "Funksjonene  $f$ og $g$ er gitt ved $f(x)= x^2 - 4$ og $g(x) = 4 - x^2$.\n",
    "\n",
    "Tegn grafene til funksjonene i samme koordinatsystem. Tilpass definisjonsmengden slik at skjæringspunktene mellom grafene vises."
   ]
  },
  {
   "cell_type": "code",
   "execution_count": null,
   "metadata": {},
   "outputs": [],
   "source": []
  },
  {
   "cell_type": "markdown",
   "metadata": {},
   "source": [
    "## Oppgave 3\n",
    "Funksjonen $f$ er gitt ved $f(x)=6 x - 12$, og verdimengden $V_f = [-12, 18]$.\n",
    "- Bruk verdimengden i stedet for definisjonsmengden til å tegne grafen.\n",
    "- Hvorfor går det her, men ikke for alle funksjoner?"
   ]
  },
  {
   "cell_type": "code",
   "execution_count": null,
   "metadata": {},
   "outputs": [],
   "source": []
  }
 ],
 "metadata": {
  "kernelspec": {
   "display_name": "Python 3",
   "language": "python",
   "name": "python3"
  },
  "language_info": {
   "codemirror_mode": {
    "name": "ipython",
    "version": 3
   },
   "file_extension": ".py",
   "mimetype": "text/x-python",
   "name": "python",
   "nbconvert_exporter": "python",
   "pygments_lexer": "ipython3",
   "version": "3.8.5"
  }
 },
 "nbformat": 4,
 "nbformat_minor": 4
}
