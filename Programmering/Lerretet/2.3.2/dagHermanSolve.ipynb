{
 "cells": [
  {
   "cell_type": "markdown",
   "metadata": {},
   "source": [
    "# Oppgave\n",
    "Lag en algoritme som, fra listen [-5, -3, -2, 0, 2, 3, -2, 1], genererer følgende histogram.\n",
    "\n",
    "![Alt text](image.png)\n",
    "\n",
    "Implementer algoritmen din.\n"
   ]
  },
  {
   "cell_type": "code",
   "execution_count": 1,
   "metadata": {},
   "outputs": [
    {
     "data": {
      "application/vnd.jupyter.widget-view+json": {
       "model_id": "8b7b9e144b7c49be8f960eed6a140e1c",
       "version_major": 2,
       "version_minor": 0
      },
      "text/plain": [
       "Canvas(height=250, width=1600)"
      ]
     },
     "metadata": {},
     "output_type": "display_data"
    }
   ],
   "source": [
    "import ipycanvas\n",
    "\n",
    "verdier = [-5, -3, -2, 0, 2, 3, -2, 1]\n",
    "\n",
    "høyest_abs_verdi = max(verdier)\n",
    "if abs(min(verdier)) > høyest_abs_verdi:\n",
    "    høyest_abs_verdi = abs(min(verdier))\n",
    "\n",
    "posY = 150\n",
    "width = 200\n",
    "\n",
    "canvas = ipycanvas.Canvas(width = len(verdier) * width, height = høyest_abs_verdi * 100 / 2)\n",
    "canvas.stroke_style = \"black\"\n",
    "\n",
    "i = 0\n",
    "for tall in verdier:\n",
    "    fill = \"blue\"\n",
    "    if tall > 0:\n",
    "        fill = \"red\"\n",
    "\n",
    "    canvas.fill_style = fill\n",
    "\n",
    "    posX = i / len(verdier) * width\n",
    "\n",
    "    canvas.fill_rect(posX, posY,1 / len(verdier) * width, tall * 30)\n",
    "    canvas.stroke_rect(posX, posY,1 / len(verdier) * width, tall * 30)\n",
    "    i += 1\n",
    "\n",
    "display(canvas)"
   ]
  }
 ],
 "metadata": {
  "kernelspec": {
   "display_name": "Python 3",
   "language": "python",
   "name": "python3"
  },
  "language_info": {
   "codemirror_mode": {
    "name": "ipython",
    "version": 3
   },
   "file_extension": ".py",
   "mimetype": "text/x-python",
   "name": "python",
   "nbconvert_exporter": "python",
   "pygments_lexer": "ipython3",
   "version": "3.10.11"
  },
  "orig_nbformat": 4
 },
 "nbformat": 4,
 "nbformat_minor": 2
}
