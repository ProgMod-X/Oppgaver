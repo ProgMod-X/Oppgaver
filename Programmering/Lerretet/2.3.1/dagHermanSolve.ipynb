{
 "cells": [
  {
   "cell_type": "markdown",
   "metadata": {},
   "source": [
    "# Oppgave\n",
    "Kvadratet øverst til venstre i figuren under er 10×10 pixler, og hvert påfølgende kvadrat er dobbelt så stort som det forrige.\n",
    "\n",
    "![Alt text](image-1.png)\n",
    "\n",
    "    a) Lag en algortime om tegner figuren over.\n",
    "    Algoritmen skal beskrives med et flytdiagram.\n",
    "    \n",
    "    b)Implementer algoritmen."
   ]
  },
  {
   "cell_type": "markdown",
   "metadata": {},
   "source": [
    "# a)\n",
    "\n"
   ]
  },
  {
   "cell_type": "code",
   "execution_count": null,
   "metadata": {},
   "outputs": [],
   "source": [
    "# b)\n",
    "import ipycanvas\n",
    "\n",
    "for i in range(5):\n",
    "    "
   ]
  }
 ],
 "metadata": {
  "language_info": {
   "name": "python"
  },
  "orig_nbformat": 4
 },
 "nbformat": 4,
 "nbformat_minor": 2
}
