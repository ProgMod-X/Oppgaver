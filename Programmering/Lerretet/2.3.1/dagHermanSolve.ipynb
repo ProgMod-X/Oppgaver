{
 "cells": [
  {
   "cell_type": "markdown",
   "metadata": {},
   "source": [
    "# Oppgave\n",
    "Kvadratet øverst til venstre i figuren under er 10×10 pixler, og hvert påfølgende kvadrat er dobbelt så stort som det forrige.\n",
    "\n",
    "![Alt text](image-1.png)\n",
    "\n",
    "    a) Lag en algortime om tegner figuren over.\n",
    "    Algoritmen skal beskrives med et flytdiagram.\n",
    "    \n",
    "    b)Implementer algoritmen."
   ]
  },
  {
   "cell_type": "markdown",
   "metadata": {},
   "source": [
    "# a)\n",
    "\n",
    "![Alt text](image-2.png)\n"
   ]
  },
  {
   "cell_type": "code",
   "execution_count": 2,
   "metadata": {},
   "outputs": [
    {
     "data": {
      "application/vnd.jupyter.widget-view+json": {
       "model_id": "338322e2caca488f949b0a29c36791dc",
       "version_major": 2,
       "version_minor": 0
      },
      "text/plain": [
       "Canvas(height=300, width=300)"
      ]
     },
     "metadata": {},
     "output_type": "display_data"
    }
   ],
   "source": [
    "# b)\n",
    "import ipycanvas\n",
    "\n",
    "canvas = ipycanvas.Canvas(width = 300, height = 300)\n",
    "\n",
    "posX = 0\n",
    "posY = 0\n",
    "size = 10\n",
    "\n",
    "for i in range(5):\n",
    "    canvas.fill_rect(posX, posY, size, size)\n",
    "    posX += size\n",
    "    posY += size\n",
    "    size *= 2\n",
    "\n",
    "display(canvas)"
   ]
  }
 ],
 "metadata": {
  "kernelspec": {
   "display_name": "Python 3",
   "language": "python",
   "name": "python3"
  },
  "language_info": {
   "codemirror_mode": {
    "name": "ipython",
    "version": 3
   },
   "file_extension": ".py",
   "mimetype": "text/x-python",
   "name": "python",
   "nbconvert_exporter": "python",
   "pygments_lexer": "ipython3",
   "version": "3.10.11"
  },
  "orig_nbformat": 4
 },
 "nbformat": 4,
 "nbformat_minor": 2
}
