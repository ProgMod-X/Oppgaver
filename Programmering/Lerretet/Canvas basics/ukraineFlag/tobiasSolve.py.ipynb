{
 "cells": [
  {
   "cell_type": "code",
   "execution_count": 1,
   "metadata": {},
   "outputs": [
    {
     "data": {
      "application/vnd.jupyter.widget-view+json": {
       "model_id": "9340b9636aeb4b329726430c1e579bb8",
       "version_major": 2,
       "version_minor": 0
      },
      "text/plain": [
       "Canvas(height=200, width=300)"
      ]
     },
     "metadata": {},
     "output_type": "display_data"
    }
   ],
   "source": [
    "from ipycanvas import Canvas\n",
    "\n",
    "canvas = Canvas(width=300, height=200)\n",
    "\n",
    "canvas.fill_style = \"rgb(0, 87, 183)\"\n",
    "canvas.fill_rect(0, 0, 300, 100)\n",
    "\n",
    "canvas.fill_style = \"rgb(255, 215, 0)\"\n",
    "canvas.fill_rect(0, 100, 300, 100)\n",
    "\n",
    "display(canvas)"
   ]
  }
 ],
 "metadata": {
  "kernelspec": {
   "display_name": "Python 3",
   "language": "python",
   "name": "python3"
  },
  "language_info": {
   "codemirror_mode": {
    "name": "ipython",
    "version": 3
   },
   "file_extension": ".py",
   "mimetype": "text/x-python",
   "name": "python",
   "nbconvert_exporter": "python",
   "pygments_lexer": "ipython3",
   "version": "3.10.5"
  },
  "orig_nbformat": 4
 },
 "nbformat": 4,
 "nbformat_minor": 2
}
