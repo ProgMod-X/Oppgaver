{
 "cells": [
  {
   "cell_type": "code",
   "execution_count": 4,
   "metadata": {},
   "outputs": [
    {
     "data": {
      "application/vnd.jupyter.widget-view+json": {
       "model_id": "7751874ae6d740d7b3ee6acc3c779962",
       "version_major": 2,
       "version_minor": 0
      },
      "text/plain": [
       "Canvas(height=160, width=220)"
      ]
     },
     "metadata": {},
     "output_type": "display_data"
    }
   ],
   "source": [
    "from ipycanvas import Canvas\n",
    "\n",
    "canvas = Canvas(width=220, height=160)\n",
    "\n",
    "canvas.fill_style = \"rgb(186, 12, 47)\"\n",
    "canvas.fill_rect(0, 0, 60, 60)\n",
    "canvas.fill_rect(100, 0, 120, 60)\n",
    "canvas.fill_rect(0, 100, 60, 60)\n",
    "canvas.fill_rect(100, 100, 120, 60)\n",
    "\n",
    "canvas.fill_style = \"rgb(0, 32, 91)\"\n",
    "canvas.fill_rect(70, 0, 20, 160)\n",
    "canvas.fill_rect(0, 70, 220, 20)\n",
    "\n",
    "display(canvas)"
   ]
  }
 ],
 "metadata": {
  "kernelspec": {
   "display_name": "Python 3",
   "language": "python",
   "name": "python3"
  },
  "language_info": {
   "codemirror_mode": {
    "name": "ipython",
    "version": 3
   },
   "file_extension": ".py",
   "mimetype": "text/x-python",
   "name": "python",
   "nbconvert_exporter": "python",
   "pygments_lexer": "ipython3",
   "version": "3.10.5"
  },
  "orig_nbformat": 4
 },
 "nbformat": 4,
 "nbformat_minor": 2
}
