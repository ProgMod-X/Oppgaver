{
 "cells": [
  {
   "cell_type": "markdown",
   "metadata": {},
   "source": [
    "# Oppgave 2.3.1.2\n",
    "\n",
    "Lag funksjonen positive_diagonal() som returnerer antall positive elementer på hoveddiagonalen i en tabell av heltall med n kolonner og n rader.\n",
    "\n",
    "![Alt text](image.png)\n",
    "\n",
    "Over ser du et eksempel på en slik tabell med n=4 og 2 positive elementer på hoveddiagonalen (i blått)."
   ]
  },
  {
   "cell_type": "code",
   "execution_count": 17,
   "metadata": {},
   "outputs": [
    {
     "name": "stdout",
     "output_type": "stream",
     "text": [
      "1\n"
     ]
    }
   ],
   "source": [
    "from random import randint\n",
    "\n",
    "def positive_diagonal(tabell):\n",
    "    n = len(tabell)\n",
    "    amount = 0\n",
    "    for i in range(0, n-1):\n",
    "        value = tabell[i][i]\n",
    "        if value > 0:\n",
    "            amount += 1\n",
    "    return amount\n",
    "\n",
    "\n",
    "n = 4\n",
    "tabell = []\n",
    "\n",
    "for i in range(0, n):\n",
    "    rad = []\n",
    "    for j in range(0, n):\n",
    "        rad.append(randint(-9, 9))\n",
    "    \n",
    "    tabell.append(rad)\n",
    "\n",
    "print(positive_diagonal(tabell))\n",
    "    \n",
    "    "
   ]
  }
 ],
 "metadata": {
  "kernelspec": {
   "display_name": "Python 3",
   "language": "python",
   "name": "python3"
  },
  "language_info": {
   "codemirror_mode": {
    "name": "ipython",
    "version": 3
   },
   "file_extension": ".py",
   "mimetype": "text/x-python",
   "name": "python",
   "nbconvert_exporter": "python",
   "pygments_lexer": "ipython3",
   "version": "3.10.11"
  },
  "orig_nbformat": 4
 },
 "nbformat": 4,
 "nbformat_minor": 2
}
