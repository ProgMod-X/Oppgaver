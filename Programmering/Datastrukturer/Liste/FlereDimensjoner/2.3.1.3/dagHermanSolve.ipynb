{
 "cells": [
  {
   "cell_type": "markdown",
   "metadata": {},
   "source": [
    "# Oppgave 2.3.1.3\n",
    "\n",
    "Lag en funksjon null_fill_triangle som tar en kvadratisk tabell (et tabell med like mange rader som kolonner) og en boolsk variabel (“flagg”) upper. Funksjonen skal returnere en ny tabell etter spesifiksajsonen gitt under.\n",
    "\n",
    "1. Hvis upper er sann skal alle elementene over hoveddiagonalen (fra (0,0) til (n-1, n-1) nullstilles, hvis ikke skal alle elementene under nullstilles (se eksempel). Resten av elementene skal forbli uendret.                 \n",
    "\n",
    "2. Hvis en ikke-kvadratisk tabell mottas skal en tom liste returneres.\n",
    "\n",
    "![Alt text](image.png)"
   ]
  },
  {
   "cell_type": "code",
   "execution_count": 20,
   "metadata": {},
   "outputs": [
    {
     "name": "stdout",
     "output_type": "stream",
     "text": [
      "[5, 5, 5, 5]\n",
      "[5, 5, 5, 5]\n",
      "[5, 5, 5, 5]\n",
      "[5, 5, 5, 5]\n",
      "1 0\n",
      "2 0\n",
      "2 1\n",
      "None\n"
     ]
    }
   ],
   "source": [
    "\n",
    "def null_fill_triangle(tabell, upper):\n",
    "    n = len(tabell) - 1\n",
    "\n",
    "    for i in tabell:\n",
    "        if len(tabell[0]) - 1 != n:\n",
    "            return []\n",
    "    \n",
    "    for i in range(n):\n",
    "        for j in range(0, i):\n",
    "            print(i, j)\n",
    "\n",
    "\n",
    "n = 4\n",
    "tabell = []\n",
    "\n",
    "for i in range(0, n):\n",
    "    rad = []\n",
    "    for j in range(0, n):\n",
    "        rad.append(5)\n",
    "    \n",
    "    tabell.append(rad)\n",
    "\n",
    "for i in tabell:\n",
    "    print(i)\n",
    "\n",
    "print(null_fill_triangle(tabell, True))"
   ]
  }
 ],
 "metadata": {
  "kernelspec": {
   "display_name": "Python 3",
   "language": "python",
   "name": "python3"
  },
  "language_info": {
   "codemirror_mode": {
    "name": "ipython",
    "version": 3
   },
   "file_extension": ".py",
   "mimetype": "text/x-python",
   "name": "python",
   "nbconvert_exporter": "python",
   "pygments_lexer": "ipython3",
   "version": "3.10.11"
  },
  "orig_nbformat": 4
 },
 "nbformat": 4,
 "nbformat_minor": 2
}
