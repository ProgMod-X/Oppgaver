{
 "cells": [
  {
   "cell_type": "markdown",
   "metadata": {},
   "source": [
    "# Oppgave 1.4.5\n",
    "    a) Skriv et program som genererer gangetabellen fra 0 til 12.\n",
    "    gangetabell[3][5] skal ha verdien 15.\n",
    "\n",
    "    b) Skriv et program som genererer en gangekube med tall fra 0 til 12\n",
    "    gangekube[3][5][3] skal ha verdien 45."
   ]
  },
  {
   "cell_type": "code",
   "execution_count": null,
   "metadata": {},
   "outputs": [],
   "source": [
    "# a)\n",
    "\n",
    "gangetabell = []\n",
    "størrelse = 12\n",
    "\n",
    "rad = 0\n",
    "\n",
    "while rad <= størrelse:\n",
    "    kolonne = []\n",
    "    kolonne_index = 0\n",
    "    while kolonne_index <= størrelse:\n",
    "        kolonne.append(rad * kolonne_index)\n",
    "        kolonne_index += 1\n",
    "    gangetabell.append(kolonne)\n",
    "    rad += 1\n",
    "\n",
    "for i in gangetabell:\n",
    "    print(i)"
   ]
  },
  {
   "cell_type": "code",
   "execution_count": 9,
   "metadata": {},
   "outputs": [
    {
     "name": "stdout",
     "output_type": "stream",
     "text": [
      "0\t0\t0\t0\t0\t0\t\n",
      "0\t0\t0\t0\t0\t0\t\n",
      "0\t0\t0\t0\t0\t0\t\n",
      "0\t0\t0\t0\t0\t0\t\n",
      "0\t0\t0\t0\t0\t0\t\n",
      "0\t0\t0\t0\t0\t0\t\n",
      "\n",
      "0\t0\t0\t0\t0\t0\t\n",
      "0\t1\t2\t3\t4\t5\t\n",
      "0\t2\t4\t6\t8\t10\t\n",
      "0\t3\t6\t9\t12\t15\t\n",
      "0\t4\t8\t12\t16\t20\t\n",
      "0\t5\t10\t15\t20\t25\t\n",
      "\n",
      "0\t0\t0\t0\t0\t0\t\n",
      "0\t2\t4\t6\t8\t10\t\n",
      "0\t4\t8\t12\t16\t20\t\n",
      "0\t6\t12\t18\t24\t30\t\n",
      "0\t8\t16\t24\t32\t40\t\n",
      "0\t10\t20\t30\t40\t50\t\n",
      "\n",
      "0\t0\t0\t0\t0\t0\t\n",
      "0\t3\t6\t9\t12\t15\t\n",
      "0\t6\t12\t18\t24\t30\t\n",
      "0\t9\t18\t27\t36\t45\t\n",
      "0\t12\t24\t36\t48\t60\t\n",
      "0\t15\t30\t45\t60\t75\t\n",
      "\n",
      "0\t0\t0\t0\t0\t0\t\n",
      "0\t4\t8\t12\t16\t20\t\n",
      "0\t8\t16\t24\t32\t40\t\n",
      "0\t12\t24\t36\t48\t60\t\n",
      "0\t16\t32\t48\t64\t80\t\n",
      "0\t20\t40\t60\t80\t100\t\n",
      "\n",
      "0\t0\t0\t0\t0\t0\t\n",
      "0\t5\t10\t15\t20\t25\t\n",
      "0\t10\t20\t30\t40\t50\t\n",
      "0\t15\t30\t45\t60\t75\t\n",
      "0\t20\t40\t60\t80\t100\t\n",
      "0\t25\t50\t75\t100\t125\t\n",
      "\n"
     ]
    }
   ],
   "source": [
    "# b)\n",
    "størrelse = 5\n",
    "z = 0\n",
    "gangekube = []\n",
    "\n",
    "while z <= størrelse:\n",
    "    gangetabell = []\n",
    "    rad = 0\n",
    "\n",
    "    while rad <= størrelse:\n",
    "        kolonne = []\n",
    "        kolonne_index = 0\n",
    "        while kolonne_index <= størrelse:\n",
    "            kolonne.append(rad * kolonne_index * z)\n",
    "            kolonne_index += 1\n",
    "        gangetabell.append(kolonne)\n",
    "        rad += 1\n",
    "    \n",
    "    gangekube.append(gangetabell)\n",
    "    z += 1\n",
    "\n",
    "for tabell in gangekube:\n",
    "   for rad in tabell:\n",
    "       for element in rad:\n",
    "           print(element, end=\"\\t\")\n",
    "       print()\n",
    "   print()\n",
    "\n",
    "#print(gangekube[3][5][7])"
   ]
  }
 ],
 "metadata": {
  "kernelspec": {
   "display_name": "Python 3",
   "language": "python",
   "name": "python3"
  },
  "language_info": {
   "codemirror_mode": {
    "name": "ipython",
    "version": 3
   },
   "file_extension": ".py",
   "mimetype": "text/x-python",
   "name": "python",
   "nbconvert_exporter": "python",
   "pygments_lexer": "ipython3",
   "version": "3.10.11"
  },
  "orig_nbformat": 4
 },
 "nbformat": 4,
 "nbformat_minor": 2
}
