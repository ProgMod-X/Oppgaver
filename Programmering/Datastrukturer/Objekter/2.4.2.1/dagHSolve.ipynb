{
 "cells": [
  {
   "cell_type": "markdown",
   "metadata": {},
   "source": [
    "# Oppgave 2.3.2.1\n",
    "Du skal her lage et kontaktregister."
   ]
  },
  {
   "cell_type": "markdown",
   "metadata": {},
   "source": [
    "## a) b) c)"
   ]
  },
  {
   "cell_type": "code",
   "execution_count": 5,
   "metadata": {},
   "outputs": [
    {
     "name": "stdout",
     "output_type": "stream",
     "text": [
      "Joe\n",
      "288 22 949\n",
      "JoeMama@got.em\n",
      "\n",
      "Bob\n",
      "933 11, 842\n",
      "bob@mail.bob\n",
      "\n",
      "Charlie\n",
      "420 42 420\n",
      "charlson@mail.com\n",
      "\n"
     ]
    }
   ],
   "source": [
    "class Contact():\n",
    "\n",
    "    name = None\n",
    "    phone = None\n",
    "    email = None\n",
    "\n",
    "    def __init__(self, name, phone, email) -> None:\n",
    "        self.name = name\n",
    "        self.phone = phone\n",
    "        self.email = email\n",
    "\n",
    "contacts = [\n",
    "    Contact(\"Joe\", \"288 22 949\", \"JoeMama@got.em\"),\n",
    "    Contact(\"Bob\", \"933 11, 842\", \"bob@mail.bob\"),\n",
    "    Contact(\"Charlie\", \"420 42 420\", \"charlson@mail.com\")\n",
    "]\n",
    "\n",
    "for contact in contacts:\n",
    "    print(contact.name)\n",
    "    print(contact.phone)\n",
    "    print(contact.email)\n",
    "    print()"
   ]
  },
  {
   "cell_type": "markdown",
   "metadata": {},
   "source": [
    "## d)"
   ]
  },
  {
   "cell_type": "code",
   "execution_count": 12,
   "metadata": {},
   "outputs": [
    {
     "name": "stdout",
     "output_type": "stream",
     "text": [
      "Velg et av alternativene under:\n",
      "Ny   Liste   Avslutt\n",
      "Du valgte ny\n",
      "arn 3233 boi@mail.co\n",
      "\n",
      "Velg et av alternativene under:\n",
      "Ny   Liste   Avslutt\n",
      "Du valgte liste\n",
      "[<__main__.Contact object at 0x000001BFA3652F20>]\n",
      "arn\n",
      "3233\n",
      "boi@mail.co\n",
      "\n",
      "\n",
      "Velg et av alternativene under:\n",
      "Ny   Liste   Avslutt\n",
      "Du valgte avslutt\n"
     ]
    }
   ],
   "source": [
    "class Contact():\n",
    "\n",
    "    name = None\n",
    "    phone = None\n",
    "    email = None\n",
    "\n",
    "    def __init__(self, name, phone, email) -> None:\n",
    "        self.name = name\n",
    "        self.phone = phone\n",
    "        self.email = email\n",
    "    \n",
    "    def __str__(self) -> str:\n",
    "        value = f\"{name}, {phone}, {email}\"\n",
    "        return value\n",
    "\n",
    "contacts = []\n",
    "\n",
    "\n",
    "while True:\n",
    "    print(\"Velg et av alternativene under:\\nNy   Liste   Avslutt\")\n",
    "    valg = input()\n",
    "    print(\"Du valgte\", valg)\n",
    "    if valg.lower() == \"avslutt\":\n",
    "        break\n",
    "    elif valg.lower() == \"liste\":\n",
    "            for contact in contacts:\n",
    "            print(contact.name)\n",
    "            print(contact.phone)\n",
    "            print(contact.email)\n",
    "            print()\n",
    "    elif valg.lower() == \"ny\":\n",
    "        name = input(\"Navn til ny kontakt: \")\n",
    "        phone = input(\"Telefonnummer: \")\n",
    "        email = input(\"Epostadresse: \")\n",
    "        print(name, phone, email)\n",
    "        contacts.append(Contact(name, phone, email))\n",
    "    print()"
   ]
  }
 ],
 "metadata": {
  "kernelspec": {
   "display_name": "Python 3",
   "language": "python",
   "name": "python3"
  },
  "language_info": {
   "codemirror_mode": {
    "name": "ipython",
    "version": 3
   },
   "file_extension": ".py",
   "mimetype": "text/x-python",
   "name": "python",
   "nbconvert_exporter": "python",
   "pygments_lexer": "ipython3",
   "version": "3.10.11"
  }
 },
 "nbformat": 4,
 "nbformat_minor": 2
}
