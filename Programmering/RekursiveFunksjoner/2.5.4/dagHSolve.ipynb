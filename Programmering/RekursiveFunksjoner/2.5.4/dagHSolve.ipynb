{
 "cells": [
  {
   "attachments": {
    "image.png": {
     "image/png": "[encoded data removed]"
    }
   },
   "cell_type": "markdown",
   "metadata": {},
   "source": [
    "# Oppgave 2.5.4 ✎\n",
    "Pascals trekant bygges opp som vist under.\n",
    "\n",
    "![image.png](attachment:image.png)\n",
    "(Bilde: Wikipedia)\n",
    "\n",
    "Vi begynner å telle rader ovenifra, med rad 0 øverst. Vi teller vanligvis plass fra venstre, med plass 0 helt til venstre. Dette skrives matematisk som  Eksempelvis er \n",
    "\n",
    "    a) Skriv en rekursiv funksjon pascal(row, place) som returnerer tallet på gitt rad og plass.\n",
    "        1) Analyser modellen over og identifiser basistilfellene.\n",
    "        2) Bestem det rekursive tilfellet.\n",
    "    b) Bruk nøstede løkker sammen med funksjonen din til å skrive ut pascals trekant opp til en brukervalgt rad."
   ]
  },
  {
   "cell_type": "markdown",
   "metadata": {},
   "source": [
    "## a)"
   ]
  },
  {
   "cell_type": "code",
   "execution_count": 1,
   "metadata": {},
   "outputs": [],
   "source": [
    "def pascal(row, place):\n",
    "    if row == 0:\n",
    "        return 1\n",
    "    elif place == 0:\n",
    "        return 1\n",
    "    elif place == row:\n",
    "        return 1\n",
    "    else:\n",
    "        return pascal(row - 1, place - 1) + pascal(row - 1, place)"
   ]
  },
  {
   "cell_type": "markdown",
   "metadata": {},
   "source": [
    "## b)"
   ]
  },
  {
   "cell_type": "code",
   "execution_count": 6,
   "metadata": {},
   "outputs": [
    {
     "name": "stdout",
     "output_type": "stream",
     "text": [
      "1 \n",
      "1 1 \n",
      "1 2 1 \n",
      "1 3 3 1 \n",
      "1 4 6 4 1 \n",
      "1 5 10 10 5 1 \n",
      "1 6 15 20 15 6 1 \n",
      "1 7 21 35 35 21 7 1 \n",
      "1 8 28 56 70 56 28 8 1 \n",
      "1 9 36 84 126 126 84 36 9 1 \n",
      "1 10 45 120 210 252 210 120 45 10 1 \n",
      "1 11 55 165 330 462 462 330 165 55 11 1 \n",
      "1 12 66 220 495 792 924 792 495 220 66 12 1 \n",
      "1 13 78 286 715 1287 1716 1716 1287 715 286 78 13 1 \n",
      "1 14 91 364 1001 2002 3003 3432 3003 2002 1001 364 91 14 1 \n",
      "1 15 105 455 1365 3003 5005 6435 6435 5005 3003 1365 455 105 15 1 \n",
      "1 16 120 560 1820 4368 8008 11440 12870 11440 8008 4368 1820 560 120 16 1 \n",
      "1 17 136 680 2380 6188 12376 19448 24310 24310 19448 12376 6188 2380 680 136 17 1 \n",
      "1 18 153 816 3060 8568 18564 31824 43758 48620 43758 31824 18564 8568 3060 816 153 18 1 \n",
      "1 19 171 969 3876 11628 27132 50388 75582 92378 92378 75582 50388 27132 11628 3876 969 171 19 1 \n",
      "1 20 190 1140 4845 15504 38760 77520 125970 167960 184756 167960 125970 77520 38760 15504 4845 1140 190 20 1 \n",
      "1 21 210 1330 5985 20349 54264 116280 203490 293930 352716 352716 293930 203490 116280 54264 20349 5985 1330 210 21 1 \n",
      "1 22 231 1540 7315 26334 74613 170544 319770 497420 646646 705432 646646 497420 319770 170544 74613 26334 7315 1540 231 22 1 \n",
      "1 23 253 1771 8855 33649 100947 245157 490314 817190 1144066 1352078 1352078 1144066 817190 490314 245157 100947 33649 8855 1771 253 23 1 \n",
      "1 24 276 2024 10626 42504 134596 346104 735471 1307504 1961256 2496144 2704156 2496144 1961256 1307504 735471 346104 134596 42504 10626 2024 276 24 1 \n",
      "1 25 300 2300 12650 53130 177100 480700 1081575 2042975 3268760 4457400 5200300 5200300 4457400 3268760 2042975 1081575 480700 177100 53130 12650 2300 300 25 1 \n",
      "1 26 325 2600 14950 65780 230230 657800 1562275 3124550 5311735 7726160 9657700 10400600 9657700 7726160 5311735 3124550 1562275 657800 230230 65780 14950 2600 325 26 1 \n",
      "1 27 351 2925 17550 80730 296010 888030 2220075 4686825 8436285 13037895 17383860 20058300 20058300 17383860 13037895 8436285 4686825 2220075 888030 296010 80730 17550 2925 351 27 1 \n",
      "1 28 378 3276 20475 98280 376740 1184040 3108105 6906900 13123110 21474180 30421755 37442160 40116600 37442160 30421755 21474180 13123110 6906900 3108105 1184040 376740 98280 20475 3276 378 28 1 \n",
      "1 29 406 3654 23751 118755 475020 1560780 4292145 10015005 20030010 34597290 51895935 67863915 "
     ]
    },
    {
     "ename": "KeyboardInterrupt",
     "evalue": "",
     "output_type": "error",
     "traceback": [
      "\u001b[1;31m---------------------------------------------------------------------------\u001b[0m",
      "\u001b[1;31mKeyboardInterrupt\u001b[0m                         Traceback (most recent call last)",
      "\u001b[1;32mc:\\Users\\daghe\\Documents\\GitHub\\Oppgaver\\Programmering\\RekursiveFunksjoner\\2.4.4\\dagHSolve.ipynb Cell 5\u001b[0m line \u001b[0;36m5\n\u001b[0;32m      <a href='vscode-notebook-cell:/c%3A/Users/daghe/Documents/GitHub/Oppgaver/Programmering/RekursiveFunksjoner/2.4.4/dagHSolve.ipynb#W4sZmlsZQ%3D%3D?line=2'>3</a>\u001b[0m \u001b[39mfor\u001b[39;00m rad \u001b[39min\u001b[39;00m \u001b[39mrange\u001b[39m(n):\n\u001b[0;32m      <a href='vscode-notebook-cell:/c%3A/Users/daghe/Documents/GitHub/Oppgaver/Programmering/RekursiveFunksjoner/2.4.4/dagHSolve.ipynb#W4sZmlsZQ%3D%3D?line=3'>4</a>\u001b[0m     \u001b[39mfor\u001b[39;00m plass \u001b[39min\u001b[39;00m \u001b[39mrange\u001b[39m(rad \u001b[39m+\u001b[39m \u001b[39m1\u001b[39m):\n\u001b[1;32m----> <a href='vscode-notebook-cell:/c%3A/Users/daghe/Documents/GitHub/Oppgaver/Programmering/RekursiveFunksjoner/2.4.4/dagHSolve.ipynb#W4sZmlsZQ%3D%3D?line=4'>5</a>\u001b[0m         \u001b[39mprint\u001b[39m(pascal(rad, plass), end\u001b[39m=\u001b[39m\u001b[39m\"\u001b[39m\u001b[39m \u001b[39m\u001b[39m\"\u001b[39m)\n\u001b[0;32m      <a href='vscode-notebook-cell:/c%3A/Users/daghe/Documents/GitHub/Oppgaver/Programmering/RekursiveFunksjoner/2.4.4/dagHSolve.ipynb#W4sZmlsZQ%3D%3D?line=5'>6</a>\u001b[0m     \u001b[39mprint\u001b[39m()\n",
      "\u001b[1;32mc:\\Users\\daghe\\Documents\\GitHub\\Oppgaver\\Programmering\\RekursiveFunksjoner\\2.4.4\\dagHSolve.ipynb Cell 5\u001b[0m line \u001b[0;36m9\n\u001b[0;32m      <a href='vscode-notebook-cell:/c%3A/Users/daghe/Documents/GitHub/Oppgaver/Programmering/RekursiveFunksjoner/2.4.4/dagHSolve.ipynb#W4sZmlsZQ%3D%3D?line=6'>7</a>\u001b[0m     \u001b[39mreturn\u001b[39;00m \u001b[39m1\u001b[39m\n\u001b[0;32m      <a href='vscode-notebook-cell:/c%3A/Users/daghe/Documents/GitHub/Oppgaver/Programmering/RekursiveFunksjoner/2.4.4/dagHSolve.ipynb#W4sZmlsZQ%3D%3D?line=7'>8</a>\u001b[0m \u001b[39melse\u001b[39;00m:\n\u001b[1;32m----> <a href='vscode-notebook-cell:/c%3A/Users/daghe/Documents/GitHub/Oppgaver/Programmering/RekursiveFunksjoner/2.4.4/dagHSolve.ipynb#W4sZmlsZQ%3D%3D?line=8'>9</a>\u001b[0m     \u001b[39mreturn\u001b[39;00m pascal(row \u001b[39m-\u001b[39m \u001b[39m1\u001b[39m, place \u001b[39m-\u001b[39m \u001b[39m1\u001b[39m) \u001b[39m+\u001b[39m pascal(row \u001b[39m-\u001b[39;49m \u001b[39m1\u001b[39;49m, place)\n",
      "\u001b[1;32mc:\\Users\\daghe\\Documents\\GitHub\\Oppgaver\\Programmering\\RekursiveFunksjoner\\2.4.4\\dagHSolve.ipynb Cell 5\u001b[0m line \u001b[0;36m9\n\u001b[0;32m      <a href='vscode-notebook-cell:/c%3A/Users/daghe/Documents/GitHub/Oppgaver/Programmering/RekursiveFunksjoner/2.4.4/dagHSolve.ipynb#W4sZmlsZQ%3D%3D?line=6'>7</a>\u001b[0m     \u001b[39mreturn\u001b[39;00m \u001b[39m1\u001b[39m\n\u001b[0;32m      <a href='vscode-notebook-cell:/c%3A/Users/daghe/Documents/GitHub/Oppgaver/Programmering/RekursiveFunksjoner/2.4.4/dagHSolve.ipynb#W4sZmlsZQ%3D%3D?line=7'>8</a>\u001b[0m \u001b[39melse\u001b[39;00m:\n\u001b[1;32m----> <a href='vscode-notebook-cell:/c%3A/Users/daghe/Documents/GitHub/Oppgaver/Programmering/RekursiveFunksjoner/2.4.4/dagHSolve.ipynb#W4sZmlsZQ%3D%3D?line=8'>9</a>\u001b[0m     \u001b[39mreturn\u001b[39;00m pascal(row \u001b[39m-\u001b[39m \u001b[39m1\u001b[39m, place \u001b[39m-\u001b[39m \u001b[39m1\u001b[39m) \u001b[39m+\u001b[39m pascal(row \u001b[39m-\u001b[39;49m \u001b[39m1\u001b[39;49m, place)\n",
      "    \u001b[1;31m[... skipping similar frames: pascal at line 9 (18 times)]\u001b[0m\n",
      "\u001b[1;32mc:\\Users\\daghe\\Documents\\GitHub\\Oppgaver\\Programmering\\RekursiveFunksjoner\\2.4.4\\dagHSolve.ipynb Cell 5\u001b[0m line \u001b[0;36m9\n\u001b[0;32m      <a href='vscode-notebook-cell:/c%3A/Users/daghe/Documents/GitHub/Oppgaver/Programmering/RekursiveFunksjoner/2.4.4/dagHSolve.ipynb#W4sZmlsZQ%3D%3D?line=6'>7</a>\u001b[0m     \u001b[39mreturn\u001b[39;00m \u001b[39m1\u001b[39m\n\u001b[0;32m      <a href='vscode-notebook-cell:/c%3A/Users/daghe/Documents/GitHub/Oppgaver/Programmering/RekursiveFunksjoner/2.4.4/dagHSolve.ipynb#W4sZmlsZQ%3D%3D?line=7'>8</a>\u001b[0m \u001b[39melse\u001b[39;00m:\n\u001b[1;32m----> <a href='vscode-notebook-cell:/c%3A/Users/daghe/Documents/GitHub/Oppgaver/Programmering/RekursiveFunksjoner/2.4.4/dagHSolve.ipynb#W4sZmlsZQ%3D%3D?line=8'>9</a>\u001b[0m     \u001b[39mreturn\u001b[39;00m pascal(row \u001b[39m-\u001b[39m \u001b[39m1\u001b[39m, place \u001b[39m-\u001b[39m \u001b[39m1\u001b[39m) \u001b[39m+\u001b[39m pascal(row \u001b[39m-\u001b[39;49m \u001b[39m1\u001b[39;49m, place)\n",
      "\u001b[1;32mc:\\Users\\daghe\\Documents\\GitHub\\Oppgaver\\Programmering\\RekursiveFunksjoner\\2.4.4\\dagHSolve.ipynb Cell 5\u001b[0m line \u001b[0;36m2\n\u001b[0;32m      <a href='vscode-notebook-cell:/c%3A/Users/daghe/Documents/GitHub/Oppgaver/Programmering/RekursiveFunksjoner/2.4.4/dagHSolve.ipynb#W4sZmlsZQ%3D%3D?line=0'>1</a>\u001b[0m \u001b[39mdef\u001b[39;00m \u001b[39mpascal\u001b[39m(row, place):\n\u001b[1;32m----> <a href='vscode-notebook-cell:/c%3A/Users/daghe/Documents/GitHub/Oppgaver/Programmering/RekursiveFunksjoner/2.4.4/dagHSolve.ipynb#W4sZmlsZQ%3D%3D?line=1'>2</a>\u001b[0m     \u001b[39mif\u001b[39;00m row \u001b[39m==\u001b[39;49m \u001b[39m0\u001b[39;49m:\n\u001b[0;32m      <a href='vscode-notebook-cell:/c%3A/Users/daghe/Documents/GitHub/Oppgaver/Programmering/RekursiveFunksjoner/2.4.4/dagHSolve.ipynb#W4sZmlsZQ%3D%3D?line=2'>3</a>\u001b[0m         \u001b[39mreturn\u001b[39;00m \u001b[39m1\u001b[39m\n\u001b[0;32m      <a href='vscode-notebook-cell:/c%3A/Users/daghe/Documents/GitHub/Oppgaver/Programmering/RekursiveFunksjoner/2.4.4/dagHSolve.ipynb#W4sZmlsZQ%3D%3D?line=3'>4</a>\u001b[0m     \u001b[39melif\u001b[39;00m place \u001b[39m==\u001b[39m \u001b[39m0\u001b[39m:\n",
      "\u001b[1;31mKeyboardInterrupt\u001b[0m: "
     ]
    }
   ],
   "source": [
    "n = int(input(\"størrelse på trekant n: \"))\n",
    "\n",
    "for rad in range(n):\n",
    "    for plass in range(rad + 1):\n",
    "        print(pascal(rad, plass), end=\" \")\n",
    "    print()"
   ]
  },
  {
   "cell_type": "code",
   "execution_count": null,
   "metadata": {},
   "outputs": [],
   "source": []
  }
 ],
 "metadata": {
  "kernelspec": {
   "display_name": "Python 3",
   "language": "python",
   "name": "python3"
  },
  "language_info": {
   "codemirror_mode": {
    "name": "ipython",
    "version": 3
   },
   "file_extension": ".py",
   "mimetype": "text/x-python",
   "name": "python",
   "nbconvert_exporter": "python",
   "pygments_lexer": "ipython3",
   "version": "3.10.11"
  }
 },
 "nbformat": 4,
 "nbformat_minor": 2
}
