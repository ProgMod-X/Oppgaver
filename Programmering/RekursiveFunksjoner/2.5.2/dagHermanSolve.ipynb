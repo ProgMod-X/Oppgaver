{
 "cells": [
  {
   "cell_type": "markdown",
   "metadata": {},
   "source": [
    "# Oppgave 2.4.2 ✎\n",
    "I en aritmetisk tallfølge er det en fast differanse mellom to ledd.\n",
    "\n",
    "\n",
    "\n",
    "I tallfølgen over adderer vi det forrige ledden med 5 for å få det neste.\n",
    "\n",
    "    a) Skriv en funksjon a(n) som bruker rekursjon til å returnere den n’te leddet i følgen.\n",
    "    b) Ledd nummer 3 i følgen har verdien 13. Dette skrives ofte som a3 = 13.\n",
    "    Skriv kode som bestemmer hvilket ledd i rekken som har verdien 503.\n",
    "\n",
    "Mange problemer kan (med fordel) løses ved hjelp av løkker i stedet for rekursjon.\n",
    "\n",
    "    c) Skriv en funksjon b(n) som bruker en løkke i stedet for rekursjon til å beregne verdien til ledd n.\n",
    "\n",
    "Ofte kan vi finne matematiske formler som erstatter både bruken av rekursjon og løkker. For tallfølger skiller vi mellom rekursive formler (som er avhengig av å vite verdien til forrige ledd) og direkte formler - som navnet tilsier gir verdien direkte så lenge vi vet hvilket nummer i rekken det er.\n",
    "\n",
    "    d) Basert på logikken du bruker i oppgave c), finn en direkte formel for verdien til ledd n.\n",
    "    Ta utgangspunkt i at vi vet følgens første ledd, her a1 = 3, og differansen mellom to ledd, her d = 5."
   ]
  },
  {
   "cell_type": "markdown",
   "metadata": {},
   "source": [
    "## a)"
   ]
  },
  {
   "cell_type": "code",
   "execution_count": 3,
   "metadata": {},
   "outputs": [
    {
     "name": "stdout",
     "output_type": "stream",
     "text": [
      "13\n"
     ]
    }
   ],
   "source": [
    "def a(n):\n",
    "    if n <= 1:\n",
    "        return 3\n",
    "    else:\n",
    "        return a(n - 1) + 5\n",
    "print(a(3))"
   ]
  },
  {
   "cell_type": "markdown",
   "metadata": {},
   "source": [
    "## b)"
   ]
  },
  {
   "cell_type": "code",
   "execution_count": 4,
   "metadata": {},
   "outputs": [
    {
     "name": "stdout",
     "output_type": "stream",
     "text": [
      "101 503\n"
     ]
    }
   ],
   "source": [
    "i = 0\n",
    "while a(i) < 503:\n",
    "    i += 1\n",
    "print(i, a(i))"
   ]
  },
  {
   "cell_type": "markdown",
   "metadata": {},
   "source": [
    "## c)"
   ]
  },
  {
   "cell_type": "code",
   "execution_count": 6,
   "metadata": {},
   "outputs": [
    {
     "name": "stdout",
     "output_type": "stream",
     "text": [
      "18\n"
     ]
    }
   ],
   "source": [
    "def b(n):\n",
    "    i = 0\n",
    "    total = 3\n",
    "    while i < n:\n",
    "        i += 1\n",
    "        total += 5\n",
    "    return total\n",
    "\n",
    "print(b(3))"
   ]
  }
 ],
 "metadata": {
  "kernelspec": {
   "display_name": "Python 3",
   "language": "python",
   "name": "python3"
  },
  "language_info": {
   "codemirror_mode": {
    "name": "ipython",
    "version": 3
   },
   "file_extension": ".py",
   "mimetype": "text/x-python",
   "name": "python",
   "nbconvert_exporter": "python",
   "pygments_lexer": "ipython3",
   "version": "3.10.11"
  }
 },
 "nbformat": 4,
 "nbformat_minor": 2
}
