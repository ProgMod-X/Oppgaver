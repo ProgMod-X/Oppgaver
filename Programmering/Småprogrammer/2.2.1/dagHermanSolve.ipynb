{
 "cells": [
  {
   "cell_type": "markdown",
   "metadata": {},
   "source": [
    "# Oppgave 2.2.1\n",
    "«Gjett et tall»\n",
    "\n",
    "Lag et spill der datamaskinen trekker et tilfeldig tall – velg selv intervall. Brukeren skal skrive inn et tall, for så å få beskjed om\n",
    "\n",
    "    tallet er riktig\n",
    "    tallet er lavere\n",
    "    tallet er høyere\n",
    "\n",
    "Programmet avsluttes når riktig tall er funnet, og antall forsøk skrives ut."
   ]
  },
  {
   "cell_type": "code",
   "execution_count": 3,
   "metadata": {},
   "outputs": [
    {
     "name": "stdout",
     "output_type": "stream",
     "text": [
      "Prøv å gjett riktig tall!\n",
      "\n",
      "Mindre enn 0\n",
      "Større enn -200\n",
      "Mindre enn -100\n",
      "Mindre enn -150\n",
      "Større enn -175\n",
      "Større enn -170\n",
      "Mindre enn -160\n",
      "Mindre enn 3\n",
      "Større enn -165\n",
      "Du valgte riktig!\n",
      "Svaret er -163\n",
      "Du brukte 10 forsøk\n"
     ]
    }
   ],
   "source": [
    "from random import randint\n",
    "\n",
    "fasit = randint(-200, 200)\n",
    "gjett = 0\n",
    "\n",
    "print(\"Prøv å gjett riktig tall!\\n\")\n",
    "\n",
    "forsøk = 0\n",
    "while gjett != fasit:\n",
    "    forsøk += 1\n",
    "    gjett = int(input(\"velg et tall: \"))\n",
    "    \n",
    "    if gjett != fasit:\n",
    "        if gjett < fasit:\n",
    "            print(\"Større enn\", gjett)\n",
    "        elif gjett > fasit:\n",
    "            print(\"Mindre enn\", gjett)\n",
    "\n",
    "print(\"Du valgte riktig!\\nSvaret er\", fasit)\n",
    "print(\"Du brukte\", forsøk, \"forsøk\")"
   ]
  }
 ],
 "metadata": {
  "kernelspec": {
   "display_name": "Python 3",
   "language": "python",
   "name": "python3"
  },
  "language_info": {
   "codemirror_mode": {
    "name": "ipython",
    "version": 3
   },
   "file_extension": ".py",
   "mimetype": "text/x-python",
   "name": "python",
   "nbconvert_exporter": "python",
   "pygments_lexer": "ipython3",
   "version": "3.10.11"
  },
  "orig_nbformat": 4
 },
 "nbformat": 4,
 "nbformat_minor": 2
}
