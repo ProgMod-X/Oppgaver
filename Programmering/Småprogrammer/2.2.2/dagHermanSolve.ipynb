{
 "cells": [
  {
   "cell_type": "markdown",
   "metadata": {},
   "source": [
    "# Oppgave 2.2.2\n",
    "«Tegneprogram»\n",
    "\n",
    "a) Lag følgende funksjoner:\n",
    "\n",
    "    Funksjon med en parameter som returnerer et kvadrat av *'er som en streng\n",
    "    Funksjon med to parametre som returnerer et rektangel av *'er som en streng\n",
    "    Funksjon med en parameter som returnerer en rettvinklet og “likebeint” trekant av *'er som en streng\n",
    "\n",
    "Strengen som returneres skal kun bestå av \\* og \\n (så mange av hver som trengs). Du vil trenge løkker inne i funksjonene dine.\n",
    "\n",
    "\n",
    "![Alt text](image.png)\n",
    "\n",
    "\n",
    "b) Lag et program som bruker funksjonene du laget. Brukeren skal kunne velge størrelse på de ulike figurene.\n",
    "\n",
    "c) Forsøk å utvide programmet ditt med andre figurer (som brukeren kan bestemme størrelsen på)"
   ]
  },
  {
   "cell_type": "code",
   "execution_count": 10,
   "metadata": {},
   "outputs": [
    {
     "name": "stdout",
     "output_type": "stream",
     "text": [
      "*****\n",
      "*****\n",
      "*****\n",
      "*****\n",
      "*****\n",
      "\n",
      "***\n",
      "***\n",
      "***\n",
      "***\n",
      "\n",
      "*\n",
      "**\n",
      "***\n",
      "****\n",
      "\n"
     ]
    }
   ],
   "source": [
    "# a)\n",
    "def square(x):\n",
    "    return (\"*\" * x + \"\\n\") * x\n",
    "\n",
    "def rectangle(l, b):\n",
    "    return (\"*\" * l + \"\\n\") * b\n",
    "\n",
    "def triangle(x):\n",
    "    tri  = \"\"\n",
    "    for i in range(1, x + 1):\n",
    "        tri += \"*\" * i + \"\\n\"\n",
    "    return tri\n",
    "\n",
    "print(square(5))\n",
    "\n",
    "print(rectangle(3, 4))\n",
    "\n",
    "print(triangle(4))\n"
   ]
  },
  {
   "cell_type": "code",
   "execution_count": 3,
   "metadata": {},
   "outputs": [
    {
     "name": "stdout",
     "output_type": "stream",
     "text": [
      "****\n",
      "****\n",
      "****\n",
      "****\n",
      "\n",
      "****\n",
      "****\n",
      "****\n",
      "\n",
      "*\n",
      "**\n",
      "***\n",
      "\n"
     ]
    }
   ],
   "source": [
    "# b)\n",
    "\n",
    "def square(x):\n",
    "    return (\"*\" * x + \"\\n\") * x\n",
    "\n",
    "def rectangle(l, b):\n",
    "    return (\"*\" * l + \"\\n\") * b\n",
    "\n",
    "def triangle(x):\n",
    "    tri  = \"\"\n",
    "    for i in range(1, x + 1):\n",
    "        tri += \"*\" * i + \"\\n\"\n",
    "    return tri\n",
    "\n",
    "kvad = int(input(\"Sidelengden av kvadratet: \"))\n",
    "print(square(kvad))\n",
    "\n",
    "rektL = int(input(\"lengden av rektanglet: \"))\n",
    "rektB = int(input(\"bredden av rektanglet: \"))\n",
    "print(rectangle(rektB, rektL))\n",
    "\n",
    "tri = int(input(\"sidelengden av trianglet\"))\n",
    "print(triangle(tri))"
   ]
  },
  {
   "cell_type": "code",
   "execution_count": null,
   "metadata": {},
   "outputs": [],
   "source": [
    "# c)\n",
    "\n",
    "def amogus(thickness):\n",
    "    port = (\"X\" * thickness * 4 + \"\\n\") * thickness\n",
    "    port += ((\"X\" * thickness) + (\" \" * thickness)*2 + (\"X\" * thickness)*2 + \"\\n\") * thickness\n",
    "    port += (\"X\" * thickness * 5 + \"\\n\") * thickness\n",
    "    port += (((\"X\" * thickness) + (\" \" * thickness)*2 + (\"X\" * thickness) + \"\\n\") * thickness) * 2\n",
    "    return port\n",
    "\n",
    "for i in range(1, 5):\n",
    "    print(amogus(i))"
   ]
  }
 ],
 "metadata": {
  "kernelspec": {
   "display_name": "Python 3",
   "language": "python",
   "name": "python3"
  },
  "language_info": {
   "codemirror_mode": {
    "name": "ipython",
    "version": 3
   },
   "file_extension": ".py",
   "mimetype": "text/x-python",
   "name": "python",
   "nbconvert_exporter": "python",
   "pygments_lexer": "ipython3",
   "version": "3.10.11"
  },
  "orig_nbformat": 4
 },
 "nbformat": 4,
 "nbformat_minor": 2
}
