{
 "cells": [
  {
   "cell_type": "markdown",
   "metadata": {},
   "source": [
    "# Oppgave 2.2.2\n",
    "«Tegneprogram»\n",
    "\n",
    "Lag følgende funksjoner:\n",
    "\n",
    "    Funksjon med en parameter som returnerer et kvadrat av *'er som en streng\n",
    "    Funksjon med to parametre som returnerer et rektangel av *'er som en streng\n",
    "    Funksjon med en parameter som returnerer en rettvinklet og “likebeint” trekant av *'er som en streng\n",
    "\n",
    "Strengen som returneres skal kun bestå av \\* og \\n (så mange av hver som trengs). Du vil trenge løkker inne i funksjonene dine.\n",
    "\n",
    "\n",
    "![Alt text](image.png)\n",
    "\n",
    "\n",
    "Lag et program som bruker funksjonene du laget. Brukeren skal kunne velge størrelse på de ulike figurene.\n",
    "Forsøk å utvide programmet ditt med andre figurer (som brukeren kan bestemme størrelsen på)"
   ]
  },
  {
   "cell_type": "code",
   "execution_count": 10,
   "metadata": {},
   "outputs": [
    {
     "name": "stdout",
     "output_type": "stream",
     "text": [
      "*****\n",
      "*****\n",
      "*****\n",
      "*****\n",
      "*****\n",
      "\n",
      "***\n",
      "***\n",
      "***\n",
      "***\n",
      "\n",
      "*\n",
      "**\n",
      "***\n",
      "****\n",
      "\n"
     ]
    }
   ],
   "source": [
    "def square(x):\n",
    "    return (\"*\" * x + \"\\n\") * x\n",
    "\n",
    "def rectangle(l, b):\n",
    "    return (\"*\" * l + \"\\n\") * b\n",
    "\n",
    "def triangle(x):\n",
    "    tri  = \"\"\n",
    "    for i in range(1, x + 1):\n",
    "        tri += \"*\" * i + \"\\n\"\n",
    "    return tri\n",
    "\n",
    "print(square(5))\n",
    "\n",
    "print(rectangle(3, 4))\n",
    "\n",
    "print(triangle(4))\n"
   ]
  }
 ],
 "metadata": {
  "kernelspec": {
   "display_name": "Python 3",
   "language": "python",
   "name": "python3"
  },
  "language_info": {
   "codemirror_mode": {
    "name": "ipython",
    "version": 3
   },
   "file_extension": ".py",
   "mimetype": "text/x-python",
   "name": "python",
   "nbconvert_exporter": "python",
   "pygments_lexer": "ipython3",
   "version": "3.10.11"
  },
  "orig_nbformat": 4
 },
 "nbformat": 4,
 "nbformat_minor": 2
}
