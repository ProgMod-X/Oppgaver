{
 "cells": [
  {
   "cell_type": "markdown",
   "metadata": {},
   "source": [
    "# Oppgave 2.2.3\n",
    "«Mattequiz»\n",
    "\n",
    "    a) Lag et quiz der brukeren skal multiplisere to heltall mellom 1 og 10. Tallene skal trekkes tilfeldig.\n",
    "    b) Utvid quizet til å inneholde flere omganger. Brukeren skal få nye oppgaver helt til han svarer feil. Poengsum skal beregnes.\n",
    "    c) Utvid slik at bruker kan velge antall spørsmål. Antall riktige og antall feil skal beregnes.\n",
    "    Brukeren skal få følgende melding opp ved slutten av spillet\n",
    "        «Perfekt» - ved alle riktige\n",
    "        «Bra!» - ved over ⅔ riktige\n",
    "        «Du trenger mer trening...» - ved mellom ⅓ og ⅔ riktige\n",
    "        «Spør mattelæreren din om hjelp!» - ved under ⅓ riktige\n",
    "    d) La quizet ha tre vanskelighetsgrader:\n",
    "        Enkel – tall mellom 1 og 10\n",
    "        Middels – tall mellom 1 og 25\n",
    "        Vanskelig – tall mellom 1 og 100\n",
    "    e) Utvid spillet til å også omfatte addisjon, subtraksjon og divisjon (mulig en blanding?)."
   ]
  },
  {
   "cell_type": "code",
   "execution_count": 3,
   "metadata": {},
   "outputs": [
    {
     "name": "stdout",
     "output_type": "stream",
     "text": [
      "Hva er 5 * 9\n",
      "FEIL\n"
     ]
    }
   ],
   "source": [
    "# a)\n",
    "from random import randint\n",
    "\n",
    "a = randint(1, 10)\n",
    "b = randint(1, 10)\n",
    "print(\"Hva er\", a, \"*\", b)\n",
    "svar = int(input(\"svar: \"))\n",
    "\n",
    "if svar == a * b:\n",
    "    print(\"Riktig!\")\n",
    "else:\n",
    "    print(\"FEIL\")"
   ]
  },
  {
   "cell_type": "code",
   "execution_count": 8,
   "metadata": {},
   "outputs": [
    {
     "name": "stdout",
     "output_type": "stream",
     "text": [
      "Hva er 5 * 7\n",
      "Ditt svar: 35\n",
      "Riktig!\n",
      "Hva er 6 * 1\n",
      "Ditt svar: 6\n",
      "Riktig!\n",
      "Hva er 9 * 10\n",
      "Ditt svar: 0\n",
      "FEIL\n",
      "\n",
      "Du fikk 2 poeng\n"
     ]
    }
   ],
   "source": [
    "# b)\n",
    "\n",
    "from random import randint\n",
    "\n",
    "winning = True\n",
    "poeng = 0\n",
    "\n",
    "while winning:\n",
    "    a = randint(1, 10)\n",
    "    b = randint(1, 10)\n",
    "    print(\"Hva er\", a, \"*\", b)\n",
    "    svar = int(input(\"svar: \"))\n",
    "    print(\"Ditt svar:\", svar)\n",
    "\n",
    "    if svar == a * b:\n",
    "        print(\"Riktig!\")\n",
    "        poeng += 1\n",
    "    else:\n",
    "        print(\"FEIL\")\n",
    "        winning = False\n",
    "\n",
    "print(\"\\nDu fikk\", poeng, \"poeng\")\n"
   ]
  },
  {
   "cell_type": "code",
   "execution_count": 19,
   "metadata": {},
   "outputs": [
    {
     "name": "stdout",
     "output_type": "stream",
     "text": [
      "Hva er 6 * 9\n",
      "Ditt svar: 54\n",
      "Riktig!\n",
      "\n",
      "Hva er 4 * 3\n",
      "Ditt svar: 12\n",
      "Riktig!\n",
      "\n",
      "Hva er 7 * 6\n",
      "Ditt svar: 0\n",
      "FEIL\n",
      "\n",
      "\n",
      "Du fikk 2 riktige og 1 feil. Bra! 0.6666666666666666\n"
     ]
    }
   ],
   "source": [
    "# c)\n",
    "\n",
    "from random import randint\n",
    "import time\n",
    "\n",
    "poeng = 0\n",
    "spørsmål = int(input(\"Antall spørsmål: \"))\n",
    "time.sleep(0.1)\n",
    "i = 1\n",
    "while i <= spørsmål:\n",
    "    a = randint(1, 10)\n",
    "    b = randint(1, 10)\n",
    "    print(\"Hva er\", a, \"*\", b)\n",
    "    time.sleep(0.1)\n",
    "    svar = int(input(\"svar: \"))\n",
    "    time.sleep(0.1)\n",
    "    print(\"Ditt svar:\", svar)\n",
    "\n",
    "    if svar == a * b:\n",
    "        print(\"Riktig!\\n\")\n",
    "        poeng += 1\n",
    "    else:\n",
    "        print(\"FEIL\\n\")\n",
    "    i += 1\n",
    "\n",
    "tilbakemelding = \"\"\n",
    "if poeng / spørsmål == 1:\n",
    "    tilbakemelding = \"Perfekt!\"\n",
    "elif poeng / spørsmål >= 2/3:\n",
    "    tilbakemelding = \"Bra!\"\n",
    "elif 1/3 < poeng / spørsmål and poeng / spørsmål < 2/3:\n",
    "    tilbakemelding = \"Du trenger mer trening...\"\n",
    "else:\n",
    "    tilbakemelding = \"Spør mattelæreren din om hjelp!\"\n",
    "\n",
    "print(\"\\nDu fikk\", poeng,\"riktige og\", spørsmål - poeng, \"feil.\", tilbakemelding)\n"
   ]
  }
 ],
 "metadata": {
  "kernelspec": {
   "display_name": "Python 3",
   "language": "python",
   "name": "python3"
  },
  "language_info": {
   "codemirror_mode": {
    "name": "ipython",
    "version": 3
   },
   "file_extension": ".py",
   "mimetype": "text/x-python",
   "name": "python",
   "nbconvert_exporter": "python",
   "pygments_lexer": "ipython3",
   "version": "3.10.11"
  },
  "orig_nbformat": 4
 },
 "nbformat": 4,
 "nbformat_minor": 2
}
