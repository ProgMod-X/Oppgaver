{
 "cells": [
  {
   "cell_type": "markdown",
   "metadata": {},
   "source": [
    "# 4.1.4\n",
    "\n",
    "Tabellen nedenfor viser hvor langt Janne jogget noen uker etter at hun begynte å trene. Den første uka jogget hun 3,4 km, den tredje uka jogget hun 5,1 km, og så videre.\n",
    "\n",
    "\n",
    "<table>\n",
    "    <tr>\n",
    "        <td><b>Uke (x)</b></td>\n",
    "        <td>1</td>\n",
    "        <td>3</td>\n",
    "        <td>9</td>\n",
    "        <td>15</td>\n",
    "        <td>20</td>\n",
    "    </tr>\n",
    "    <tr>\n",
    "        <td><b>Lengde (y)</b></td>\n",
    "        <td>3.4</td>\n",
    "        <td>5.1</td>\n",
    "        <td>8.5</td>\n",
    "        <td>15.5</td>\n",
    "        <td>18.0</td>\n",
    "    </tr>\n",
    "</table>\n",
    "\n",
    "<ol type=\"a\">\n",
    "    <li>Bestem den lineære funksjonen som passer best med tallene i tabellen ovenfor.</li>\n",
    "    <li>Hvor langt vil Janne jogge i uke 25 ifølge funksjonen i oppgave a) ?</li>\n",
    "    <li>I hvilken uke jogget Janne for første gang mer enn 10 km ifølge funksjonen i oppgave a) ?</li>\n",
    "</ol>\n",
    "\n",
    "## a)"
   ]
  },
  {
   "cell_type": "code",
   "execution_count": null,
   "metadata": {},
   "outputs": [],
   "source": [
    "import matplotlib.pyplot as plt\n",
    "import scipy.optimize as so\n",
    "\n",
    "data_x = [1, 3, 9, 15, 20]\n",
    "data_y = [3.4, 5.1, 8.5, 15.5, 18.0]\n",
    "\n",
    "def mal_f(x, a, b):\n",
    "    return a * x + b\n",
    "\n",
    "constants = so.curve_fit(mal_f, data_x, data_y)[0]\n",
    "a = constants[0]\n",
    "b = constants[1]\n",
    "\n",
    "def f(x):\n",
    "    return a * x + b\n",
    "\n",
    "x_maks = max(data_x)\n",
    "x = min(data_x)\n",
    "dx = 0.001\n",
    "\n",
    "x_list = []\n",
    "y_list = []\n",
    "\n",
    "while x < x_maks:\n",
    "    x_list.append(x)\n",
    "    y_list.append(f(x))\n",
    "\n",
    "    x += dx\n",
    "\n",
    "plt.plot(x_list, y_list, label=f\"f(x) = {round(a, 2)} * x + {round(b, 2)}\")\n",
    "plt.xlabel(\"Antall uker\")\n",
    "plt.ylabel(\"Antall km\")\n",
    "plt.legend()\n",
    "plt.show()"
   ]
  }
 ],
 "metadata": {
  "kernelspec": {
   "display_name": "Python 3",
   "language": "python",
   "name": "python3"
  },
  "language_info": {
   "name": "python",
   "version": "3.11.4"
  }
 },
 "nbformat": 4,
 "nbformat_minor": 2
}
