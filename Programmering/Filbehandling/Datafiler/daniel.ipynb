{
 "cells": [
  {
   "cell_type": "markdown",
   "metadata": {},
   "source": [
    "# Hele filen"
   ]
  },
  {
   "cell_type": "code",
   "execution_count": 3,
   "metadata": {},
   "outputs": [
    {
     "name": "stdout",
     "output_type": "stream",
     "text": [
      "Ja, vi elsker dette landet\n",
      "som det stiger frem\n",
      "furet, værbitt over vannet\n",
      "med de tusen hjem.\n",
      "Elsker, elsker det og tenker\n",
      "på vår far og mor\n",
      "og den saganatt som senker\n",
      "drømme på vår jord.\n"
     ]
    }
   ],
   "source": [
    "file = open(\"sang.txt\", \"r\", encoding=\"utf8\")\n",
    "tekst = file.read()\n",
    "print(tekst)\n",
    "file.close()"
   ]
  },
  {
   "cell_type": "markdown",
   "metadata": {},
   "source": [
    "# En linje"
   ]
  },
  {
   "cell_type": "code",
   "execution_count": 4,
   "metadata": {},
   "outputs": [
    {
     "name": "stdout",
     "output_type": "stream",
     "text": [
      "Ja, vi elsker dette landet\n",
      "\n"
     ]
    }
   ],
   "source": [
    "file = open(\"sang.txt\", \"r\", encoding=\"utf8\")\n",
    "tekst = file.readline()\n",
    "print(tekst)\n",
    "file.close()"
   ]
  },
  {
   "cell_type": "markdown",
   "metadata": {},
   "source": [
    "# Loopiloop"
   ]
  },
  {
   "cell_type": "code",
   "execution_count": 7,
   "metadata": {},
   "outputs": [
    {
     "name": "stdout",
     "output_type": "stream",
     "text": [
      "Ja,\n",
      "vi\n",
      "elsker\n",
      "dette\n",
      "landet\n",
      "som\n",
      "det\n",
      "stiger\n",
      "frem\n",
      "furet,\n",
      "værbitt\n",
      "over\n",
      "vannet\n",
      "med\n",
      "de\n",
      "tusen\n",
      "hjem.\n",
      "Elsker,\n",
      "elsker\n",
      "det\n",
      "og\n",
      "tenker\n",
      "på\n",
      "vår\n",
      "far\n",
      "og\n",
      "mor\n",
      "og\n",
      "den\n",
      "saganatt\n",
      "som\n",
      "senker\n",
      "drømme\n",
      "på\n",
      "vår\n",
      "jord.\n"
     ]
    }
   ],
   "source": [
    "file = open(\"sang.txt\", \"r\", encoding=\"utf8\")\n",
    "\n",
    "for line in file:\n",
    "    words = line.strip(\"\\n\").split(\" \")\n",
    "    for word in words:\n",
    "        print(word)\n",
    "file.close()"
   ]
  }
 ],
 "metadata": {
  "kernelspec": {
   "display_name": "Python 3",
   "language": "python",
   "name": "python3"
  },
  "language_info": {
   "codemirror_mode": {
    "name": "ipython",
    "version": 3
   },
   "file_extension": ".py",
   "mimetype": "text/x-python",
   "name": "python",
   "nbconvert_exporter": "python",
   "pygments_lexer": "ipython3",
   "version": "3.10.7"
  }
 },
 "nbformat": 4,
 "nbformat_minor": 2
}
