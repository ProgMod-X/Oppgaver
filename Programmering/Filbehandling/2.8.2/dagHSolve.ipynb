{
 "cells": [
  {
   "cell_type": "markdown",
   "metadata": {},
   "source": [
    "# Oppgave 2.8.2\n",
    "Vi skal her bygge videre på kontaktregisteret vi laget tidligere (se under Objekter). Implementer følgende forbedringer:\n",
    "\n",
    "    a) Legg til et menypunkt for å lagre registeret til fil.\n",
    "    b) Legg til et menypunkt for å lese inn et register fra fil."
   ]
  },
  {
   "cell_type": "code",
   "execution_count": null,
   "metadata": {
    "vscode": {
     "languageId": "plaintext"
    }
   },
   "outputs": [],
   "source": []
  }
 ],
 "metadata": {
  "language_info": {
   "name": "python"
  }
 },
 "nbformat": 4,
 "nbformat_minor": 2
}
