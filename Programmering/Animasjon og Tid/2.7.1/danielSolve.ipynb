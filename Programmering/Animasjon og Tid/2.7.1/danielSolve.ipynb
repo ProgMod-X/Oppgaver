{
 "cells": [
  {
   "cell_type": "code",
   "execution_count": 1,
   "metadata": {},
   "outputs": [
    {
     "data": {
      "application/vnd.jupyter.widget-view+json": {
       "model_id": "4e1718ab6a514377873d2cfa7d922e9e",
       "version_major": 2,
       "version_minor": 0
      },
      "text/plain": [
       "Canvas(height=200)"
      ]
     },
     "metadata": {},
     "output_type": "display_data"
    },
    {
     "ename": "KeyboardInterrupt",
     "evalue": "",
     "output_type": "error",
     "traceback": [
      "\u001b[1;31m---------------------------------------------------------------------------\u001b[0m",
      "\u001b[1;31mKeyboardInterrupt\u001b[0m                         Traceback (most recent call last)",
      "\u001b[1;32mc:\\Users\\danie\\GitHub\\Oppgaver\\Oppgaver\\Programmering\\Animasjon og Tid\\2.7.1\\danielSolve.ipynb Cell 1\u001b[0m line \u001b[0;36m2\n\u001b[0;32m     <a href='vscode-notebook-cell:/c%3A/Users/danie/GitHub/Oppgaver/Oppgaver/Programmering/Animasjon%20og%20Tid/2.7.1/danielSolve.ipynb#W0sZmlsZQ%3D%3D?line=21'>22</a>\u001b[0m     canvas\u001b[39m.\u001b[39mclear()\n\u001b[0;32m     <a href='vscode-notebook-cell:/c%3A/Users/danie/GitHub/Oppgaver/Oppgaver/Programmering/Animasjon%20og%20Tid/2.7.1/danielSolve.ipynb#W0sZmlsZQ%3D%3D?line=22'>23</a>\u001b[0m     canvas\u001b[39m.\u001b[39mfill_circle(x,y,r)\n\u001b[1;32m---> <a href='vscode-notebook-cell:/c%3A/Users/danie/GitHub/Oppgaver/Oppgaver/Programmering/Animasjon%20og%20Tid/2.7.1/danielSolve.ipynb#W0sZmlsZQ%3D%3D?line=24'>25</a>\u001b[0m time\u001b[39m.\u001b[39;49msleep(\u001b[39m1\u001b[39;49m\u001b[39m/\u001b[39;49mfps)\n",
      "\u001b[1;31mKeyboardInterrupt\u001b[0m: "
     ]
    }
   ],
   "source": [
    "import time\n",
    "from ipycanvas import Canvas, hold_canvas\n",
    "\n",
    "widht = 320\n",
    "height = 200\n",
    "fps = 30\n",
    "\n",
    "r = 10\n",
    "x = 50\n",
    "y = 100\n",
    "dx = 1\n",
    "\n",
    "canvas = Canvas(widht=widht, height=height)\n",
    "display(canvas)\n",
    "\n",
    "finished = False\n",
    "\n",
    "while not finished:\n",
    "    x += dx\n",
    "    with hold_canvas(canvas):\n",
    "        # Visk ut lerretet\n",
    "        canvas.clear()\n",
    "        canvas.fill_circle(x,y,r)\n",
    "        \n",
    "    time.sleep(1/fps)\n"
   ]
  }
 ],
 "metadata": {
  "kernelspec": {
   "display_name": "Python 3",
   "language": "python",
   "name": "python3"
  },
  "language_info": {
   "codemirror_mode": {
    "name": "ipython",
    "version": 3
   },
   "file_extension": ".py",
   "mimetype": "text/x-python",
   "name": "python",
   "nbconvert_exporter": "python",
   "pygments_lexer": "ipython3",
   "version": "3.10.7"
  }
 },
 "nbformat": 4,
 "nbformat_minor": 2
}
