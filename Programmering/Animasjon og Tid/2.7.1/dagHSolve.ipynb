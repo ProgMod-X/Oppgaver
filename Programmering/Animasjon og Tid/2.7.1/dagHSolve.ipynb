{
 "cells": [
  {
   "cell_type": "markdown",
   "metadata": {},
   "source": [
    "# Oppgave 2.7.1\n",
    "Bruk biblioteket time til å finne antall sekunder siden 1. januar 1970. Bruk dette tallet til å beregne antall år siden 1. januar 1970."
   ]
  },
  {
   "cell_type": "code",
   "execution_count": 4,
   "metadata": {},
   "outputs": [
    {
     "name": "stdout",
     "output_type": "stream",
     "text": [
      "53.83536502246972\n"
     ]
    }
   ],
   "source": [
    "import time\n",
    "\n",
    "sekunder = time.time()\n",
    "minutt = sekunder / 60\n",
    "timer = minutt  / 60\n",
    "dager = timer / 24\n",
    "aar = dager / 365.25\n",
    "\n",
    "print(aar)"
   ]
  }
 ],
 "metadata": {
  "kernelspec": {
   "display_name": "Python 3",
   "language": "python",
   "name": "python3"
  },
  "language_info": {
   "codemirror_mode": {
    "name": "ipython",
    "version": 3
   },
   "file_extension": ".py",
   "mimetype": "text/x-python",
   "name": "python",
   "nbconvert_exporter": "python",
   "pygments_lexer": "ipython3",
   "version": "3.10.11"
  }
 },
 "nbformat": 4,
 "nbformat_minor": 2
}
