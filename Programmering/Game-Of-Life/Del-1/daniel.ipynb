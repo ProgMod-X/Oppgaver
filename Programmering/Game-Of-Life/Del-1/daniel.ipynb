 "nbformat_minor": 2
}
