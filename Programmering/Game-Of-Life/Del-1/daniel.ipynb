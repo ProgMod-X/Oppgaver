{
 "cells": [
  {
   "cell_type": "code",
   "execution_count": 89,
   "metadata": {},
   "outputs": [
    {
     "data": {
      "application/vnd.jupyter.widget-view+json": {
       "model_id": "7353130e3c6448889dd5b61570aee50a",
       "version_major": 2,
       "version_minor": 0
      },
      "text/plain": [
       "Canvas(height=400, width=400)"
      ]
     },
     "metadata": {},
     "output_type": "display_data"
    },
    {
     "data": {
      "application/vnd.jupyter.widget-view+json": {
       "model_id": "fb99db22a7704fee96b24783e9857493",
       "version_major": 2,
       "version_minor": 0
      },
      "text/plain": [
       "Canvas(height=400, width=400)"
      ]
     },
     "metadata": {},
     "output_type": "display_data"
    },
    {
     "data": {
      "application/vnd.jupyter.widget-view+json": {
       "model_id": "794bd48fb89048b59798cc4c634ed1e0",
       "version_major": 2,
       "version_minor": 0
      },
      "text/plain": [
       "Canvas(height=400, width=400)"
      ]
     },
     "metadata": {},
     "output_type": "display_data"
    },
    {
     "data": {
      "application/vnd.jupyter.widget-view+json": {
       "model_id": "4623c50282974a5192cf85b1c3ea2663",
       "version_major": 2,
       "version_minor": 0
      },
      "text/plain": [
       "Canvas(height=400, width=400)"
      ]
     },
     "metadata": {},
     "output_type": "display_data"
    },
    {
     "ename": "KeyboardInterrupt",
     "evalue": "",
     "output_type": "error",
     "traceback": [
      "\u001b[1;31m---------------------------------------------------------------------------\u001b[0m",
      "\u001b[1;31mKeyboardInterrupt\u001b[0m                         Traceback (most recent call last)",
      "\u001b[1;32mc:\\Users\\danie\\GitHub\\Oppgaver\\Oppgaver\\Programmering\\Game-Of-Life\\Del-1\\daniel.ipynb Cell 1\u001b[0m line \u001b[0;36m8\n\u001b[0;32m     <a href='vscode-notebook-cell:/c%3A/Users/danie/GitHub/Oppgaver/Oppgaver/Programmering/Game-Of-Life/Del-1/daniel.ipynb#W0sZmlsZQ%3D%3D?line=85'>86</a>\u001b[0m         draw_canvas(verden)\n\u001b[0;32m     <a href='vscode-notebook-cell:/c%3A/Users/danie/GitHub/Oppgaver/Oppgaver/Programmering/Game-Of-Life/Del-1/daniel.ipynb#W0sZmlsZQ%3D%3D?line=87'>88</a>\u001b[0m verden \u001b[39m=\u001b[39m populate(\u001b[39m20\u001b[39m, \u001b[39m20\u001b[39m)\n\u001b[1;32m---> <a href='vscode-notebook-cell:/c%3A/Users/danie/GitHub/Oppgaver/Oppgaver/Programmering/Game-Of-Life/Del-1/daniel.ipynb#W0sZmlsZQ%3D%3D?line=88'>89</a>\u001b[0m animate_generations(verden, num_generations\u001b[39m=\u001b[39;49m\u001b[39m10\u001b[39;49m, delay\u001b[39m=\u001b[39;49m\u001b[39m1\u001b[39;49m)\n",
      "\u001b[1;32mc:\\Users\\danie\\GitHub\\Oppgaver\\Oppgaver\\Programmering\\Game-Of-Life\\Del-1\\daniel.ipynb Cell 1\u001b[0m line \u001b[0;36m8\n\u001b[0;32m     <a href='vscode-notebook-cell:/c%3A/Users/danie/GitHub/Oppgaver/Oppgaver/Programmering/Game-Of-Life/Del-1/daniel.ipynb#W0sZmlsZQ%3D%3D?line=80'>81</a>\u001b[0m draw_canvas(verden)\n\u001b[0;32m     <a href='vscode-notebook-cell:/c%3A/Users/danie/GitHub/Oppgaver/Oppgaver/Programmering/Game-Of-Life/Del-1/daniel.ipynb#W0sZmlsZQ%3D%3D?line=82'>83</a>\u001b[0m \u001b[39mfor\u001b[39;00m _ \u001b[39min\u001b[39;00m \u001b[39mrange\u001b[39m(num_generations):\n\u001b[1;32m---> <a href='vscode-notebook-cell:/c%3A/Users/danie/GitHub/Oppgaver/Oppgaver/Programmering/Game-Of-Life/Del-1/daniel.ipynb#W0sZmlsZQ%3D%3D?line=83'>84</a>\u001b[0m     time\u001b[39m.\u001b[39;49msleep(delay)\n\u001b[0;32m     <a href='vscode-notebook-cell:/c%3A/Users/danie/GitHub/Oppgaver/Oppgaver/Programmering/Game-Of-Life/Del-1/daniel.ipynb#W0sZmlsZQ%3D%3D?line=84'>85</a>\u001b[0m     verden \u001b[39m=\u001b[39m next_generation(verden)\n\u001b[0;32m     <a href='vscode-notebook-cell:/c%3A/Users/danie/GitHub/Oppgaver/Oppgaver/Programmering/Game-Of-Life/Del-1/daniel.ipynb#W0sZmlsZQ%3D%3D?line=85'>86</a>\u001b[0m     draw_canvas(verden)\n",
      "\u001b[1;31mKeyboardInterrupt\u001b[0m: "
     ]
    }
   ],
   "source": [
    "import random\n",
    "import ipycanvas as canvas\n",
    "import time\n",
    "\n",
    "def populate(width, height):\n",
    "    tabell = []\n",
    "    for i in range(width):\n",
    "        kolonne = []\n",
    "        for j in range(height):\n",
    "            kolonne.append(random.randint(0, 1))\n",
    "        tabell.append(kolonne)\n",
    "\n",
    "    return tabell\n",
    "\n",
    "def draw_canvas(verden):\n",
    "    cell_size = 20\n",
    "    width = len(verden)\n",
    "    height = len(verden[0])\n",
    "\n",
    "    canvas_widget = canvas.Canvas(width=width * cell_size, height=height * cell_size)\n",
    "    display(canvas_widget)\n",
    "\n",
    "    for i in range(width):\n",
    "        for j in range(height):\n",
    "            color = 'black' \n",
    "            if verden[i][j] == 1:\n",
    "                color = 'white'\n",
    "            canvas_widget.fill_style = color\n",
    "            canvas_widget.fill_rect(i * cell_size, j * cell_size, cell_size, cell_size)\n",
    "\n",
    "def count_alive_neighbors(neighborhood):\n",
    "    return sum(sum(row) for row in neighborhood) - neighborhood[1][1]\n",
    "\n",
    "def alive_next_generation(neighborhood):\n",
    "    alive_neighbors = count_alive_neighbors(neighborhood)\n",
    "\n",
    "    # 1: En levende celle med færre enn to naboer dør av \"ensomhet\"\n",
    "    if neighborhood[1][1] == 1 and alive_neighbors < 2:\n",
    "        return False\n",
    "\n",
    "    # 2: En levende celle med to eller tre naboer overlever til neste generasjon.\n",
    "    if neighborhood[1][1] == 1 and (alive_neighbors == 2 or alive_neighbors == 3):\n",
    "        return True\n",
    "\n",
    "    # 3: En levende celle med flere enn tre naboer dør av \"ressursmangel\"\n",
    "    if neighborhood[1][1] == 1 and alive_neighbors > 3:\n",
    "        return False\n",
    "\n",
    "    # 4: Det oppstår liv i en celle uten liv hvis den har nøyaktig tre naboer.\n",
    "    if neighborhood[1][1] == 0 and alive_neighbors == 3:\n",
    "        return True\n",
    "\n",
    "    return False\n",
    "\n",
    "def next_generation(world):\n",
    "    new_world = [[0] * len(world[0]) for _ in range(len(world))]\n",
    "\n",
    "    for i in range(1, len(world) - 1):\n",
    "        for j in range(1, len(world[0]) - 1):\n",
    "            neighborhood = [\n",
    "                [world[i - 1][j - 1], world[i - 1][j], world[i - 1][j + 1]],\n",
    "                [world[i][j - 1], world[i][j], world[i][j + 1]],\n",
    "                [world[i + 1][j - 1], world[i + 1][j], world[i + 1][j + 1]]\n",
    "            ]\n",
    "            next_gen_state = alive_next_generation(neighborhood)\n",
    "            new_world[i][j] = 1 if next_gen_state else 0\n",
    "\n",
    "    # kanten?\n",
    "    for i in range(len(world)):\n",
    "        new_world[i][0] = world[i][0]\n",
    "        new_world[i][-1] = world[i][-1]\n",
    "\n",
    "    for j in range(len(world[0])):\n",
    "        new_world[0][j] = world[0][j]\n",
    "        new_world[-1][j] = world[-1][j]\n",
    "\n",
    "    return new_world\n",
    "\n",
    "def animate_generations(initial_world, num_generations, delay=0.5):\n",
    "    verden = initial_world\n",
    "    draw_canvas(verden)\n",
    "\n",
    "    for _ in range(num_generations):\n",
    "        time.sleep(delay)\n",
    "        verden = next_generation(verden)\n",
    "        draw_canvas(verden)\n",
    "\n",
    "verden = populate(20, 20)\n",
    "animate_generations(verden, num_generations=10, delay=1)\n"
   ]
  }
 ],
 "metadata": {
  "kernelspec": {
   "display_name": "Python 3",
   "language": "python",
   "name": "python3"
  },
  "language_info": {
   "codemirror_mode": {
    "name": "ipython",
    "version": 3
   },
   "file_extension": ".py",
   "mimetype": "text/x-python",
   "name": "python",
   "nbconvert_exporter": "python",
   "pygments_lexer": "ipython3",
   "version": "3.10.7"
  }
 },
 "nbformat": 4,
 "nbformat_minor": 2
}
