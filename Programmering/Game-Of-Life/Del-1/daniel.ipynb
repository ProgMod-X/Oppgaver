{
 "cells": [
  {
   "cell_type": "code",
   "execution_count": 36,
   "metadata": {},
   "outputs": [
    {
     "data": {
      "application/vnd.jupyter.widget-view+json": {
       "model_id": "f0513be42a0d43a29f99d3460372de4e",
       "version_major": 2,
       "version_minor": 0
      },
      "text/plain": [
       "Canvas(height=80, width=60)"
      ]
     },
     "metadata": {},
     "output_type": "display_data"
    }
   ],
   "source": [
    "import random\n",
    "import ipycanvas as canvas\n",
    "\n",
    "def populate(width, height):\n",
    "    tabell = []\n",
    "    for i in range(width):\n",
    "        kolonne = []\n",
    "        for j in range(height):\n",
    "            kolonne.append(random.randint(0, 1))\n",
    "        tabell.append(kolonne)\n",
    "\n",
    "    return tabell\n",
    "\n",
    "def draw_canvas(verden):\n",
    "    cell_size = 20\n",
    "    width = len(verden)\n",
    "    height = len(verden[0])\n",
    "\n",
    "    canvas_widget = canvas.Canvas(width=width * cell_size, height=height * cell_size)\n",
    "    display(canvas_widget)\n",
    "\n",
    "    for i in range(width):\n",
    "        for j in range(height):\n",
    "            color = 'black' \n",
    "            if verden[i][j] == 1:\n",
    "                color = 'white'\n",
    "            canvas_widget.fill_style = color\n",
    "            canvas_widget.fill_rect(i * cell_size, j * cell_size, cell_size, cell_size)\n",
    "\n",
    "verden = populate(3, 4)\n",
    "draw_canvas(verden)\n"
   ]
  }
 ],
 "metadata": {
  "kernelspec": {
   "display_name": "Python 3",
   "language": "python",
   "name": "python3"
  },
  "language_info": {
   "codemirror_mode": {
    "name": "ipython",
    "version": 3
   },
   "file_extension": ".py",
   "mimetype": "text/x-python",
   "name": "python",
   "nbconvert_exporter": "python",
   "pygments_lexer": "ipython3",
   "version": "3.10.7"
  }
 },
 "nbformat": 4,
 "nbformat_minor": 2
}
