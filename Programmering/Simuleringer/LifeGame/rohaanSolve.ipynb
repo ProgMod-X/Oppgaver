{
 "cells": [
  {
   "cell_type": "code",
   "execution_count": 6,
   "metadata": {},
   "outputs": [
    {
     "data": {
      "application/vnd.jupyter.widget-view+json": {
       "model_id": "03e1f0fcd09e4a309ea2574380a64ccb",
       "version_major": 2,
       "version_minor": 0
      },
      "text/plain": [
       "Canvas(height=240, width=195)"
      ]
     },
     "metadata": {},
     "output_type": "display_data"
    },
    {
     "name": "stdout",
     "output_type": "stream",
     "text": [
      "[[0, 1, 1, 1, 1, 1, 1, 0, 1, 1, 1, 1, 1], [1, 0, 1, 0, 0, 0, 0, 0, 1, 0, 0, 1, 1], [1, 0, 0, 1, 0, 0, 1, 0, 1, 0, 1, 1, 1], [0, 1, 0, 1, 0, 0, 0, 1, 0, 0, 1, 0, 1], [1, 1, 0, 0, 1, 0, 0, 1, 0, 0, 0, 0, 0], [0, 0, 1, 1, 0, 1, 1, 1, 1, 0, 0, 1, 0], [0, 1, 0, 0, 1, 0, 1, 0, 0, 0, 1, 1, 0], [0, 1, 0, 1, 1, 0, 1, 0, 1, 1, 0, 1, 0], [1, 0, 0, 1, 1, 0, 1, 0, 0, 1, 1, 0, 0], [0, 1, 0, 0, 0, 0, 0, 1, 1, 1, 1, 1, 1], [0, 1, 0, 1, 0, 1, 1, 0, 1, 1, 0, 0, 0], [0, 0, 0, 1, 1, 1, 1, 1, 1, 0, 1, 0, 1], [1, 1, 0, 0, 0, 0, 0, 1, 1, 1, 1, 0, 1], [0, 1, 0, 1, 1, 1, 0, 0, 0, 1, 0, 0, 1], [0, 1, 0, 1, 0, 0, 0, 0, 1, 0, 1, 1, 1], [1, 0, 1, 0, 1, 1, 0, 0, 0, 1, 1, 0, 1]]\n"
     ]
    },
    {
     "ename": "KeyboardInterrupt",
     "evalue": "",
     "output_type": "error",
     "traceback": [
      "\u001b[1;31m---------------------------------------------------------------------------\u001b[0m",
      "\u001b[1;31mKeyboardInterrupt\u001b[0m                         Traceback (most recent call last)",
      "\u001b[1;32mi:\\Oppgaver\\Programmering\\Simuleringer\\LifeGame\\rohaanSolve.ipynb Cell 1\u001b[0m line \u001b[0;36m8\n\u001b[0;32m     <a href='vscode-notebook-cell:/i%3A/Oppgaver/Programmering/Simuleringer/LifeGame/rohaanSolve.ipynb#W0sZmlsZQ%3D%3D?line=81'>82</a>\u001b[0m world \u001b[39m=\u001b[39m next_generation(world)\n\u001b[0;32m     <a href='vscode-notebook-cell:/i%3A/Oppgaver/Programmering/Simuleringer/LifeGame/rohaanSolve.ipynb#W0sZmlsZQ%3D%3D?line=83'>84</a>\u001b[0m \u001b[39m# print(world)\u001b[39;00m\n\u001b[1;32m---> <a href='vscode-notebook-cell:/i%3A/Oppgaver/Programmering/Simuleringer/LifeGame/rohaanSolve.ipynb#W0sZmlsZQ%3D%3D?line=84'>85</a>\u001b[0m time\u001b[39m.\u001b[39msleep(\u001b[39m0.1\u001b[39m)\n\u001b[0;32m     <a href='vscode-notebook-cell:/i%3A/Oppgaver/Programmering/Simuleringer/LifeGame/rohaanSolve.ipynb#W0sZmlsZQ%3D%3D?line=85'>86</a>\u001b[0m \u001b[39m# # Draw canvas\u001b[39;00m\n\u001b[0;32m     <a href='vscode-notebook-cell:/i%3A/Oppgaver/Programmering/Simuleringer/LifeGame/rohaanSolve.ipynb#W0sZmlsZQ%3D%3D?line=86'>87</a>\u001b[0m \u001b[39mfor\u001b[39;00m i \u001b[39min\u001b[39;00m \u001b[39mrange\u001b[39m(height):\n",
      "\u001b[1;31mKeyboardInterrupt\u001b[0m: "
     ]
    }
   ],
   "source": [
    "from ipycanvas import Canvas\n",
    "import random\n",
    "import time\n",
    "\n",
    "cell_pixel_size = 15\n",
    "width = 13\n",
    "height = 16\n",
    "\n",
    "canvas = Canvas(width=width*cell_pixel_size, height=height*cell_pixel_size)\n",
    "display(canvas)\n",
    "\n",
    "\n",
    "def populate(width, height):\n",
    "    world = []\n",
    "    for i in range(height):\n",
    "        a = []\n",
    "        for j in range(width):\n",
    "            a.append(random.randint(0, 1))\n",
    "        world.append(a)\n",
    "    \n",
    "    return world\n",
    "\n",
    "\n",
    "def alive_next_generation(neighborhood):\n",
    "    if neighborhood[1][1] == 1:\n",
    "        num_of_neighbors = -1\n",
    "    else:\n",
    "        num_of_neighbors = 0\n",
    "    for i in range(3):\n",
    "        for j in range(3):\n",
    "            if neighborhood[i][j] == 1:\n",
    "                num_of_neighbors += 1\n",
    "    if num_of_neighbors < 2:\n",
    "        return False\n",
    "    elif num_of_neighbors > 3:\n",
    "        return False\n",
    "    else:\n",
    "        return True\n",
    "    \n",
    "\n",
    "def next_generation(world):\n",
    "    new_world = world\n",
    "    for i in range(height):\n",
    "        for j in range(width):\n",
    "            statement = alive_next_generation(find_neighborhood(i, j))\n",
    "            if statement:\n",
    "                new_world[i][j] = 1\n",
    "            else:\n",
    "                new_world[i][j] = 0\n",
    "    return new_world\n",
    "\n",
    "\n",
    "def find_neighborhood(y, x):\n",
    "    global height\n",
    "    global width\n",
    "    neighborhood = []\n",
    "    for i in range(y - 1, y + 2):\n",
    "        a = []\n",
    "        for j in range(x - 1, x + 2):\n",
    "            if i >= height and j >= width:\n",
    "                a.append(world[0][0])\n",
    "            elif i >= height:\n",
    "                a.append(world[0][j])\n",
    "            elif j >= width:\n",
    "                a.append(world[i][0])\n",
    "            else:\n",
    "                a.append(world[i][j])\n",
    "        neighborhood.append(a)\n",
    "    return neighborhood\n",
    "\n",
    "world = populate(width, height)\n",
    "print(world)\n",
    "\n",
    "\n",
    "# while True:\n",
    "for i in range(100):\n",
    "    world = next_generation(world)\n",
    "    \n",
    "    # print(world)\n",
    "    time.sleep(0.1)\n",
    "    # # Draw canvas\n",
    "    for i in range(height):\n",
    "        for j in range(width):\n",
    "            if world[i][j] == 0:\n",
    "                canvas.fill_style = \"white\"\n",
    "                canvas.fill_rect(cell_pixel_size*j, cell_pixel_size*i, cell_pixel_size)\n",
    "            else:\n",
    "                canvas.fill_style = \"black\"\n",
    "                canvas.fill_rect(cell_pixel_size*j, cell_pixel_size*i, cell_pixel_size)"
   ]
  }
 ],
 "metadata": {
  "kernelspec": {
   "display_name": "Python 3",
   "language": "python",
   "name": "python3"
  },
  "language_info": {
   "codemirror_mode": {
    "name": "ipython",
    "version": 3
   },
   "file_extension": ".py",
   "mimetype": "text/x-python",
   "name": "python",
   "nbconvert_exporter": "python",
   "pygments_lexer": "ipython3",
   "version": "3.11.4"
  }
 },
 "nbformat": 4,
 "nbformat_minor": 2
}
