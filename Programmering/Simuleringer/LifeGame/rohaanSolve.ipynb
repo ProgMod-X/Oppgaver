{
 "cells": [
  {
   "cell_type": "code",
   "execution_count": 8,
   "metadata": {},
   "outputs": [
    {
     "data": {
      "application/vnd.jupyter.widget-view+json": {
       "model_id": "747e1c02d74d4994914f43ce8933253a",
       "version_major": 2,
       "version_minor": 0
      },
      "text/plain": [
       "Canvas(height=200, width=200)"
      ]
     },
     "metadata": {},
     "output_type": "display_data"
    },
    {
     "name": "stdout",
     "output_type": "stream",
     "text": [
      "[[0, 0, 0, 1, 0, 1, 0, 1, 0, 1], [0, 1, 0, 0, 0, 1, 1, 0, 1, 0], [0, 1, 1, 0, 0, 0, 1, 0, 0, 1], [1, 0, 1, 0, 0, 1, 0, 0, 1, 0], [0, 0, 0, 1, 1, 1, 0, 0, 0, 1], [1, 0, 1, 1, 1, 1, 1, 0, 0, 1], [1, 0, 1, 0, 0, 1, 0, 0, 0, 0], [0, 0, 1, 1, 0, 0, 1, 1, 0, 0], [0, 1, 1, 1, 1, 0, 1, 0, 0, 0], [0, 1, 1, 1, 0, 1, 0, 0, 1, 0]]\n"
     ]
    },
    {
     "ename": "KeyboardInterrupt",
     "evalue": "",
     "output_type": "error",
     "traceback": [
      "\u001b[1;31m---------------------------------------------------------------------------\u001b[0m",
      "\u001b[1;31mKeyboardInterrupt\u001b[0m                         Traceback (most recent call last)",
      "\u001b[1;32mi:\\Oppgaver\\Programmering\\Simuleringer\\LifeGame\\rohaanSolve.ipynb Cell 1\u001b[0m line \u001b[0;36m1\n\u001b[0;32m     <a href='vscode-notebook-cell:/i%3A/Oppgaver/Programmering/Simuleringer/LifeGame/rohaanSolve.ipynb#W0sZmlsZQ%3D%3D?line=98'>99</a>\u001b[0m         \u001b[39melse\u001b[39;00m:\n\u001b[0;32m    <a href='vscode-notebook-cell:/i%3A/Oppgaver/Programmering/Simuleringer/LifeGame/rohaanSolve.ipynb#W0sZmlsZQ%3D%3D?line=99'>100</a>\u001b[0m             \u001b[39mcontinue\u001b[39;00m\n\u001b[1;32m--> <a href='vscode-notebook-cell:/i%3A/Oppgaver/Programmering/Simuleringer/LifeGame/rohaanSolve.ipynb#W0sZmlsZQ%3D%3D?line=100'>101</a>\u001b[0m time\u001b[39m.\u001b[39msleep(\u001b[39m1\u001b[39m\u001b[39m/\u001b[39m\u001b[39m3\u001b[39m)\n",
      "\u001b[1;31mKeyboardInterrupt\u001b[0m: "
     ]
    }
   ],
   "source": [
    "from ipycanvas import Canvas, hold_canvas\n",
    "import random\n",
    "import time\n",
    "\n",
    "cell_pixel_size = 20\n",
    "width = 10\n",
    "height = 10\n",
    "\n",
    "canvas = Canvas(width=width*cell_pixel_size, height=height*cell_pixel_size)\n",
    "display(canvas)\n",
    "\n",
    "\n",
    "def populate(width, height):\n",
    "    world = []\n",
    "    for i in range(height):\n",
    "        a = []\n",
    "        for j in range(width):\n",
    "            a.append(random.randint(0, 1))\n",
    "        world.append(a)\n",
    "    \n",
    "    return world\n",
    "\n",
    "\n",
    "def alive_next_generation(neighborhood):\n",
    "    if neighborhood[1][1] == 1:\n",
    "        num_of_neighbors = -1\n",
    "    else:\n",
    "        num_of_neighbors = 0\n",
    "\n",
    "    for i in range(3):\n",
    "        for j in range(3):\n",
    "            if neighborhood[i][j] == 1:\n",
    "                num_of_neighbors += 1\n",
    "                \n",
    "    if num_of_neighbors < 2 or num_of_neighbors > 3:\n",
    "        return False\n",
    "    else:\n",
    "        return True\n",
    "    \n",
    "\n",
    "def next_generation(world):\n",
    "    new_world = world\n",
    "    for i in range(height):\n",
    "        for j in range(width):\n",
    "            statement = alive_next_generation(find_neighborhood(i, j))\n",
    "            if statement:\n",
    "                new_world[i][j] = 1\n",
    "            else:\n",
    "                new_world[i][j] = 0\n",
    "    return new_world\n",
    "\n",
    "\n",
    "def find_neighborhood(y, x):\n",
    "    global height\n",
    "    global width\n",
    "    neighborhood = []\n",
    "    for i in range(y - 1, y + 2):\n",
    "        a = []\n",
    "        for j in range(x - 1, x + 2):\n",
    "            if i >= height and j >= width:\n",
    "                a.append(world[0][0])\n",
    "            elif i >= height:\n",
    "                a.append(world[0][j])\n",
    "            elif j >= width:\n",
    "                a.append(world[i][0])\n",
    "            else:\n",
    "                a.append(world[i][j])\n",
    "        neighborhood.append(a)\n",
    "    return neighborhood\n",
    "\n",
    "world = populate(width, height)\n",
    "print(world)\n",
    "\n",
    "a = [[0,0,0,0,1,0,0,0,0,0],\n",
    "     [0,0,0,0,0,1,0,0,0,0],\n",
    "     [0,0,0,1,1,1,0,0,0,0],\n",
    "     [0,0,0,0,0,0,0,0,0,0],\n",
    "     [0,0,0,0,0,0,0,0,0,0],\n",
    "     [0,0,0,0,0,0,0,0,0,0],\n",
    "     [0,0,0,0,0,0,0,0,0,0],\n",
    "     [0,0,0,0,0,0,0,0,0,0],\n",
    "     [0,0,0,0,0,0,0,0,0,0],\n",
    "     [0,0,0,0,0,0,0,0,0,0]]\n",
    "\n",
    "world = a\n",
    "\n",
    "# while True:\n",
    "for i in range(100):\n",
    "    world = next_generation(world)\n",
    "    \n",
    "    with hold_canvas():\n",
    "        # # Draw canvas\n",
    "        canvas.clear()\n",
    "\n",
    "        for i in range(height):\n",
    "            for j in range(width):\n",
    "                if world[i][j] == 1:\n",
    "                    canvas.fill_rect(cell_pixel_size*j, cell_pixel_size*i, cell_pixel_size)\n",
    "                else:\n",
    "                    continue\n",
    "        time.sleep(1/3)"
   ]
  }
 ],
 "metadata": {
  "kernelspec": {
   "display_name": "Python 3",
   "language": "python",
   "name": "python3"
  },
  "language_info": {
   "codemirror_mode": {
    "name": "ipython",
    "version": 3
   },
   "file_extension": ".py",
   "mimetype": "text/x-python",
   "name": "python",
   "nbconvert_exporter": "python",
   "pygments_lexer": "ipython3",
   "version": "3.11.4"
  }
 },
 "nbformat": 4,
 "nbformat_minor": 2
}
