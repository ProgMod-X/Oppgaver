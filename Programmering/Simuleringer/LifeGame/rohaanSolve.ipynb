{
 "cells": [
  {
   "cell_type": "code",
   "execution_count": null,
   "metadata": {},
   "outputs": [],
   "source": [
    "import random\n",
    "\n",
    "def populate(width, height):\n",
    "    world = []\n",
    "    for i in range(height):\n",
    "        a = []\n",
    "        for j in range(width):\n",
    "            a.append(random.randint(0, 1))\n",
    "        world.append(a)\n",
    "    \n",
    "    return world\n",
    "\n",
    "print(populate(5, 6))"
   ]
  }
 ],
 "metadata": {
  "language_info": {
   "name": "python"
  }
 },
 "nbformat": 4,
 "nbformat_minor": 2
}
