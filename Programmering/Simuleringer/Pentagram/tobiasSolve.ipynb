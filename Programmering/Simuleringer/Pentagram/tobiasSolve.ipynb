{
 "cells": [
  {
   "cell_type": "code",
   "execution_count": 1,
   "metadata": {},
   "outputs": [
    {
     "data": {
      "application/vnd.jupyter.widget-view+json": {
       "model_id": "7ca02b304c544df7b7f2352d9285425a",
       "version_major": 2,
       "version_minor": 0
      },
      "text/plain": [
       "Canvas(height=400, width=400)"
      ]
     },
     "metadata": {},
     "output_type": "display_data"
    },
    {
     "ename": "KeyboardInterrupt",
     "evalue": "",
     "output_type": "error",
     "traceback": [
      "\u001b[1;31m---------------------------------------------------------------------------\u001b[0m",
      "\u001b[1;31mKeyboardInterrupt\u001b[0m                         Traceback (most recent call last)",
      "\u001b[1;32mc:\\Users\\Tobias Samsonsen\\Programming\\Oppgaver\\Programmering\\Simuleringer\\Pentagram\\tobiasSolve.ipynb Cell 1\u001b[0m line \u001b[0;36m<cell line: 50>\u001b[1;34m()\u001b[0m\n\u001b[0;32m     <a href='vscode-notebook-cell:/c%3A/Users/Tobias%20Samsonsen/Programming/Oppgaver/Programmering/Simuleringer/Pentagram/tobiasSolve.ipynb#W0sZmlsZQ%3D%3D?line=54'>55</a>\u001b[0m \u001b[39mif\u001b[39;00m isPentagram(points):\n\u001b[0;32m     <a href='vscode-notebook-cell:/c%3A/Users/Tobias%20Samsonsen/Programming/Oppgaver/Programmering/Simuleringer/Pentagram/tobiasSolve.ipynb#W0sZmlsZQ%3D%3D?line=55'>56</a>\u001b[0m     time\u001b[39m.\u001b[39msleep(\u001b[39m1\u001b[39m)\n\u001b[1;32m---> <a href='vscode-notebook-cell:/c%3A/Users/Tobias%20Samsonsen/Programming/Oppgaver/Programmering/Simuleringer/Pentagram/tobiasSolve.ipynb#W0sZmlsZQ%3D%3D?line=56'>57</a>\u001b[0m time\u001b[39m.\u001b[39;49msleep(\u001b[39m0.3\u001b[39;49m)\n",
      "\u001b[1;31mKeyboardInterrupt\u001b[0m: "
     ]
    }
   ],
   "source": [
    "import random\n",
    "from ipycanvas import Canvas, hold_canvas\n",
    "import time\n",
    "        \n",
    "def makePoints(height, width, num):\n",
    "    points = []\n",
    "    for i in range(num):\n",
    "        points.append((random.randint(0, width), random.randint(0, height)))\n",
    "    return points\n",
    "\n",
    "def lineFunc(a, b):\n",
    "    vect = (b[0] - a[0], b[1] - a[1])\n",
    "    slope = vect[1]/vect[0]\n",
    "    const = a[1]-(a[0]*slope)\n",
    "    return slope, const\n",
    "\n",
    "def isPentagram(points):\n",
    "    correctChecks = 0\n",
    "    for index in range(len(points)):\n",
    "        slopeA, constA = lineFunc(points[index%5], points[(index+1)%5])\n",
    "        slopeB, constB = lineFunc(points[(index+2)%5], points[(index+3)%5])\n",
    "        slopeC, constC = lineFunc(points[(index+3)%5], points[(index+4)%5])\n",
    "        crossed = 0\n",
    "        \n",
    "        for i in range(width*100):\n",
    "            x = i/10\n",
    "            if (round(slopeA*x + constA, 2)) == (round(slopeB*x + constB, 2)):\n",
    "                if x > points[(index + 2)%5][0] and x < points[(index + 3)%5][0]:\n",
    "                    crossed += 1\n",
    "                    \n",
    "            if (slopeA*x + constA) == (slopeB*x + constB):\n",
    "                if x > points[(index + 3)%5][0] and x < points[(index + 4)%5][0]:\n",
    "                    crossed += 1\n",
    "                    \n",
    "        if crossed == 2:\n",
    "            correctChecks += 1\n",
    "    if correctChecks == 5:\n",
    "        return True\n",
    "                \n",
    "\n",
    "\n",
    "run = True\n",
    "width = 400\n",
    "height = 400\n",
    "canvas = Canvas(width = width, height = height)\n",
    "canvas.line_width = 4\n",
    "canvas.stroke_style = \"black\"\n",
    "display(canvas)\n",
    "\n",
    "while run:\n",
    "    with hold_canvas(canvas):\n",
    "        canvas.clear()\n",
    "        points = makePoints(width, height, 5)\n",
    "        canvas.stroke_polygon(points)\n",
    "    if isPentagram(points):\n",
    "        time.sleep(1)\n",
    "    time.sleep(0.3)"
   ]
  }
 ],
 "metadata": {
  "kernelspec": {
   "display_name": "Python 3",
   "language": "python",
   "name": "python3"
  },
  "language_info": {
   "codemirror_mode": {
    "name": "ipython",
    "version": 3
   },
   "file_extension": ".py",
   "mimetype": "text/x-python",
   "name": "python",
   "nbconvert_exporter": "python",
   "pygments_lexer": "ipython3",
   "version": "3.10.5"
  }
 },
 "nbformat": 4,
 "nbformat_minor": 2
}
