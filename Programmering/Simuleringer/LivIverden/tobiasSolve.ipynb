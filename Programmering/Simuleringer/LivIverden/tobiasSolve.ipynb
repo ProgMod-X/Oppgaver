{
 "cells": [
  {
   "cell_type": "code",
   "execution_count": 31,
   "metadata": {},
   "outputs": [
    {
     "data": {
      "application/vnd.jupyter.widget-view+json": {
       "model_id": "e34edc22dac847b3b5e41b05c4d0724a",
       "version_major": 2,
       "version_minor": 0
      },
      "text/plain": [
       "Canvas(height=400, width=400)"
      ]
     },
     "metadata": {},
     "output_type": "display_data"
    }
   ],
   "source": [
    "import random\n",
    "from ipycanvas import Canvas, hold_canvas\n",
    "import time\n",
    "\n",
    "def populate(width, height):\n",
    "    table = []\n",
    "    for i in range(height):\n",
    "        list = []\n",
    "        for j in range(width):\n",
    "            list.append(random.randint(0,1))\n",
    "        table.append(list)\n",
    "    return table\n",
    "\n",
    "def alive_next_generation(neighborhood):\n",
    "    neighbors = 0\n",
    "    neighborhood[1][1] = 0\n",
    "    for column in neighborhood:\n",
    "        for val in column:\n",
    "            neighbors += val\n",
    "            \n",
    "    if neighbors == 0:\n",
    "        return False\n",
    "    elif neighbors <= 3:\n",
    "        return True\n",
    "    else:\n",
    "        return False\n",
    "    \n",
    "def next_generation(world):\n",
    "    for y in range(len(world)):\n",
    "        for x in range(len(world[y])):\n",
    "            neighborhood = []\n",
    "            for i in range(3):\n",
    "                list = []\n",
    "                yrange = y\n",
    "                if (y-1)+i > len(world):\n",
    "                        yrange -= len(world)\n",
    "                for j in range(3):\n",
    "                    xrange = x\n",
    "                    if (x-1)+j > len(world[y]):\n",
    "                        xrange -= len(world[y])\n",
    "                    list.append(world[(yrange-2)+i][(xrange-2)+j])\n",
    "                neighborhood.append(list)\n",
    "            alive = alive_next_generation(neighborhood)\n",
    "            if alive:\n",
    "                world[y][x] = 1\n",
    "            else:\n",
    "                world[y][x] = 0\n",
    "    return world\n",
    "\n",
    "width = 400\n",
    "height = 400\n",
    "cell_size = 50\n",
    "fps = 3\n",
    "runtime = 30\n",
    "canvas = Canvas(width = width, height = height)\n",
    "tick = 0\n",
    "\n",
    "world = populate(int(width/cell_size), int(height/cell_size))\n",
    "\n",
    "display(canvas)\n",
    "while tick < runtime*fps:\n",
    "    with hold_canvas(canvas):\n",
    "        canvas.clear()\n",
    "        for i in range(len(world)):\n",
    "            for j in range(len(world[i])):\n",
    "                posX = j*cell_size\n",
    "                posY = i*cell_size\n",
    "                if world[i][j] == 1:\n",
    "                    canvas.fill_style = \"black\"\n",
    "                else:\n",
    "                    canvas.fill_style = \"white\"\n",
    "                canvas.fill_rect(posX, posY, cell_size, cell_size)\n",
    "\n",
    "        time.sleep(1/fps)\n",
    "        next_generation(world)\n",
    "        tick += 1"
   ]
  }
 ],
 "metadata": {
  "kernelspec": {
   "display_name": "Python 3",
   "language": "python",
   "name": "python3"
  },
  "language_info": {
   "codemirror_mode": {
    "name": "ipython",
    "version": 3
   },
   "file_extension": ".py",
   "mimetype": "text/x-python",
   "name": "python",
   "nbconvert_exporter": "python",
   "pygments_lexer": "ipython3",
   "version": "3.10.5"
  }
 },
 "nbformat": 4,
 "nbformat_minor": 2
}
