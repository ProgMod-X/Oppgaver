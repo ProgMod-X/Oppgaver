{
 "cells": [
  {
   "cell_type": "code",
   "execution_count": 89,
   "metadata": {},
   "outputs": [
    {
     "data": {
      "application/vnd.jupyter.widget-view+json": {
       "model_id": "182970e66df6484ca7c4f36b54af26c1",
       "version_major": 2,
       "version_minor": 0
      },
      "text/plain": [
       "Canvas(height=400, width=400)"
      ]
     },
     "metadata": {},
     "output_type": "display_data"
    },
    {
     "ename": "KeyboardInterrupt",
     "evalue": "",
     "output_type": "error",
     "traceback": [
      "\u001b[1;31m---------------------------------------------------------------------------\u001b[0m",
      "\u001b[1;31mKeyboardInterrupt\u001b[0m                         Traceback (most recent call last)",
      "\u001b[1;32mc:\\Users\\Tobias Samsonsen\\Programming\\Oppgaver\\Programmering\\Simuleringer\\LivIverden\\tobiasSolve.ipynb Cell 1\u001b[0m line \u001b[0;36m<cell line: 80>\u001b[1;34m()\u001b[0m\n\u001b[0;32m     <a href='vscode-notebook-cell:/c%3A/Users/Tobias%20Samsonsen/Programming/Oppgaver/Programmering/Simuleringer/LivIverden/tobiasSolve.ipynb#W0sZmlsZQ%3D%3D?line=90'>91</a>\u001b[0m next_generation(world)\n\u001b[0;32m     <a href='vscode-notebook-cell:/c%3A/Users/Tobias%20Samsonsen/Programming/Oppgaver/Programmering/Simuleringer/LivIverden/tobiasSolve.ipynb#W0sZmlsZQ%3D%3D?line=91'>92</a>\u001b[0m tick \u001b[39m+\u001b[39m\u001b[39m=\u001b[39m \u001b[39m1\u001b[39m\n\u001b[1;32m---> <a href='vscode-notebook-cell:/c%3A/Users/Tobias%20Samsonsen/Programming/Oppgaver/Programmering/Simuleringer/LivIverden/tobiasSolve.ipynb#W0sZmlsZQ%3D%3D?line=92'>93</a>\u001b[0m time\u001b[39m.\u001b[39;49msleep(\u001b[39m1\u001b[39;49m\u001b[39m/\u001b[39;49mfps)\n",
      "\u001b[1;31mKeyboardInterrupt\u001b[0m: "
     ]
    }
   ],
   "source": [
    "import random\n",
    "from ipycanvas import Canvas, hold_canvas\n",
    "import time\n",
    "\n",
    "def populate(width, height): # Make a table (map) with random cells alive\n",
    "    table = []\n",
    "    choices = [0, 1]\n",
    "    for i in range(height):\n",
    "        temp = []\n",
    "        for j in range(width):\n",
    "            temp.append(random.choice(choices))\n",
    "        table.append(temp)\n",
    "    return table\n",
    "\n",
    "def alive_next_generation(neighborhood):\n",
    "    neighbors = 0\n",
    "    alive = neighborhood[1][1]\n",
    "    neighborhood[1][1] = 0 # Remove the middle of the neighborhood, as we only want to check the cells around\n",
    "    # Count number of neighbors\n",
    "    for column in neighborhood:\n",
    "        for val in column:\n",
    "            neighbors += val\n",
    "    \n",
    "    if neighbors < 2 or neighbors > 3:\n",
    "        return False\n",
    "    elif neighbors == 3:\n",
    "        return True\n",
    "    else:\n",
    "        return alive\n",
    "    \n",
    "def next_generation(world):\n",
    "    new_world = world\n",
    "    # Go through all cells\n",
    "    for y in range(len(world)):\n",
    "        for x in range(len(world[y])):\n",
    "            # Make a neighborhood\n",
    "            neighborhood = []\n",
    "            for i in range(3):\n",
    "                temp = []\n",
    "                # Fix out of range error by going back to the start of the canvas\n",
    "                yrange = y\n",
    "                if (y-1)+i > len(world):\n",
    "                        yrange -= len(world)\n",
    "                for j in range(3):\n",
    "                    xrange = x\n",
    "                    if (x-1)+j > len(world[y]):\n",
    "                        xrange -= len(world[y])\n",
    "                    \n",
    "                    temp.append(world[(yrange-2)+i][(xrange-2)+j]) # Add value to temp list for neighborhood\n",
    "                neighborhood.append(temp)\n",
    "            alive = alive_next_generation(neighborhood) # Check if neighborhood is alive\n",
    "            if alive:\n",
    "                new_world[y][x] = 1\n",
    "            else:\n",
    "                new_world[y][x] = 0\n",
    "    return new_world\n",
    "\n",
    "width = 400\n",
    "height = 400\n",
    "cell_size = 40\n",
    "fps = 1\n",
    "runtime = 16\n",
    "canvas = Canvas(width = width, height = height)\n",
    "tick = 0\n",
    "\n",
    "# world = populate(int(width/cell_size), int(height/cell_size))\n",
    "\n",
    "world = [[0,0,0,0,1,0,0,0,0,0],\n",
    "         [0,0,0,0,0,1,0,0,0,0],\n",
    "         [0,0,0,1,1,1,0,0,0,0],\n",
    "         [0,0,0,0,0,0,0,0,0,0],\n",
    "         [0,0,0,0,0,0,0,0,0,0],\n",
    "         [0,0,0,0,0,0,0,0,0,0],\n",
    "         [0,0,0,0,0,0,0,0,0,0],\n",
    "         [0,0,0,0,0,0,0,0,0,0],\n",
    "         [0,0,0,0,0,0,0,0,0,0],\n",
    "         [0,0,0,0,0,0,0,0,0,0]]\n",
    "\n",
    "display(canvas)\n",
    "while tick < runtime*fps:\n",
    "    with hold_canvas(canvas):\n",
    "        canvas.clear()\n",
    "        for i in range(len(world)):\n",
    "            for j in range(len(world[i])):\n",
    "                posX = j*cell_size\n",
    "                posY = i*cell_size\n",
    "                if world[i][j] == 1:\n",
    "                    canvas.fill_style = \"black\"\n",
    "                    canvas.fill_rect(posX, posY, cell_size, cell_size)\n",
    "\n",
    "        next_generation(world)\n",
    "        tick += 1\n",
    "        time.sleep(1/fps)"
   ]
  }
 ],
 "metadata": {
  "kernelspec": {
   "display_name": "Python 3",
   "language": "python",
   "name": "python3"
  },
  "language_info": {
   "codemirror_mode": {
    "name": "ipython",
    "version": 3
   },
   "file_extension": ".py",
   "mimetype": "text/x-python",
   "name": "python",
   "nbconvert_exporter": "python",
   "pygments_lexer": "ipython3",
   "version": "3.10.5"
  }
 },
 "nbformat": 4,
 "nbformat_minor": 2
}
