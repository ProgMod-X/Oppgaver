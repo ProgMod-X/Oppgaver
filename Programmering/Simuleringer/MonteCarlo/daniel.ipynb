{
 "cells": [
  {
   "cell_type": "code",
   "execution_count": null,
   "metadata": {},
   "outputs": [
    {
     "ename": "",
     "evalue": "",
     "output_type": "error",
     "traceback": [
      "\u001b[1;31mRunning cells with 'c:\\Users\\danie\\AppData\\Local\\Programs\\Python\\Python312\\python.exe' requires the ipykernel package.\n",
      "\u001b[1;31mRun the following command to install 'ipykernel' into the Python environment. \n",
      "\u001b[1;31mCommand: 'c:/Users/danie/AppData/Local/Programs/Python/Python312/python.exe -m pip install ipykernel -U --user --force-reinstall'"
     ]
    }
   ],
   "source": [
    "from random import randint\n",
    "from matplotlib.pyplot as plt\n",
    "\n",
    "\n",
    "N = 10_000_000\n",
    "size = 1000\n",
    "sum = 0\n",
    "n = 0\n",
    "dist_list = []\n",
    "n_list = []\n",
    "\n",
    "while n < N:\n",
    "    ax = randint(0, size)\n",
    "    ay = randint(0, size)\n",
    "    bx = randint(0, size)\n",
    "    by = randint(0, size)\n",
    "    dist = ((ax - bx)**2 + (ay-by)**2)**0.5\n",
    "    sum += dist\n",
    "    dist_list.append(dist)\n",
    "    # print(dist)\n",
    "    n_list.append(n)\n",
    "    n += 1\n",
    "\n",
    "avg_dist = sum/N\n",
    "print(avg_dist)\n",
    "\n",
    "plt.plot(n_list, dist_list, 'o' )\n",
    "plt.show()\n"
   ]
  }
 ],
 "metadata": {
  "kernelspec": {
   "display_name": "Python 3",
   "language": "python",
   "name": "python3"
  },
  "language_info": {
   "name": "python",
   "version": "3.12.0"
  }
 },
 "nbformat": 4,
 "nbformat_minor": 2
}
