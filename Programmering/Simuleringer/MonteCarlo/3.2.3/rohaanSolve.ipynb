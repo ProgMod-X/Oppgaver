{
 "cells": [
  {
   "cell_type": "code",
   "execution_count": 33,
   "metadata": {},
   "outputs": [
    {
     "data": {
      "application/vnd.jupyter.widget-view+json": {
       "model_id": "26608fc1a8a446e8b87afe759311ec52",
       "version_major": 2,
       "version_minor": 0
      },
      "text/plain": [
       "Canvas(height=400, width=400)"
      ]
     },
     "metadata": {},
     "output_type": "display_data"
    },
    {
     "ename": "KeyboardInterrupt",
     "evalue": "",
     "output_type": "error",
     "traceback": [
      "\u001b[1;31m---------------------------------------------------------------------------\u001b[0m",
      "\u001b[1;31mKeyboardInterrupt\u001b[0m                         Traceback (most recent call last)",
      "Cell \u001b[1;32mIn[33], line 37\u001b[0m\n\u001b[0;32m     33\u001b[0m     points\u001b[38;5;241m.\u001b[39mappend(points[\u001b[38;5;241m0\u001b[39m])\n\u001b[0;32m     35\u001b[0m     canvas\u001b[38;5;241m.\u001b[39mstroke_lines(points)\n\u001b[1;32m---> 37\u001b[0m time\u001b[38;5;241m.\u001b[39msleep(\u001b[38;5;241m1\u001b[39m\u001b[38;5;241m/\u001b[39mfps)\n",
      "\u001b[1;31mKeyboardInterrupt\u001b[0m: "
     ]
    }
   ],
   "source": [
    "import math\n",
    "from ipycanvas import Canvas, hold_canvas\n",
    "import time\n",
    "import random\n",
    "\n",
    "fps = 5\n",
    "width = 400\n",
    "height = 400\n",
    "radius = 5\n",
    "r = 150\n",
    "\n",
    "canvas = Canvas(width=width, height=height)\n",
    "display(canvas)\n",
    "\n",
    "while True:\n",
    "    points = []\n",
    "\n",
    "    with hold_canvas():\n",
    "        # # Draw canvas\n",
    "        # canvas.clear()\n",
    "\n",
    "        for i in range(5):\n",
    "            # points.append((random.random() * width, random.random() * height))\n",
    "\n",
    "            angle1 = random.uniform(0, 2 * math.pi)\n",
    "\n",
    "            point = (r * math.cos(angle1) + r * 1.25, r * math.sin(angle1) + r * 1.25)\n",
    "            points.append(point)\n",
    "\n",
    "            # Test to see all points are on the cirle\n",
    "            # canvas.fill_circle(point[0], point[1], radius=radius)\n",
    "\n",
    "        points.append(points[0])\n",
    "\n",
    "        canvas.stroke_lines(points)\n",
    "    \n",
    "    time.sleep(1/fps)"
   ]
  }
 ],
 "metadata": {
  "kernelspec": {
   "display_name": "Python 3",
   "language": "python",
   "name": "python3"
  },
  "language_info": {
   "codemirror_mode": {
    "name": "ipython",
    "version": 3
   },
   "file_extension": ".py",
   "mimetype": "text/x-python",
   "name": "python",
   "nbconvert_exporter": "python",
   "pygments_lexer": "ipython3",
   "version": "3.11.4"
  }
 },
 "nbformat": 4,
 "nbformat_minor": 2
}
