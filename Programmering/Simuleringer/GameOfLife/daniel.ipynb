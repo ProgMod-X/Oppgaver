{
 "cells": [
  {
   "cell_type": "code",
   "execution_count": 26,
   "metadata": {},
   "outputs": [
    {
     "data": {
      "application/vnd.jupyter.widget-view+json": {
       "model_id": "b9f51a73a929419ca9ec841ce9c980e1",
       "version_major": 2,
       "version_minor": 0
      },
      "text/plain": [
       "Canvas(width=500)"
      ]
     },
     "metadata": {},
     "output_type": "display_data"
    },
    {
     "ename": "KeyboardInterrupt",
     "evalue": "",
     "output_type": "error",
     "traceback": [
      "\u001b[1;31m---------------------------------------------------------------------------\u001b[0m",
      "\u001b[1;31mKeyboardInterrupt\u001b[0m                         Traceback (most recent call last)",
      "\u001b[1;32mc:\\Users\\danie\\GitHub\\Oppgaver\\Oppgaver\\Programmering\\Simuleringer\\GameOfLife\\daniel.ipynb Cell 1\u001b[0m line \u001b[0;36m8\n\u001b[0;32m     <a href='vscode-notebook-cell:/c%3A/Users/danie/GitHub/Oppgaver/Oppgaver/Programmering/Simuleringer/GameOfLife/daniel.ipynb#W0sZmlsZQ%3D%3D?line=78'>79</a>\u001b[0m         \u001b[39melse\u001b[39;00m:\n\u001b[0;32m     <a href='vscode-notebook-cell:/c%3A/Users/danie/GitHub/Oppgaver/Oppgaver/Programmering/Simuleringer/GameOfLife/daniel.ipynb#W0sZmlsZQ%3D%3D?line=79'>80</a>\u001b[0m             \u001b[39mcontinue\u001b[39;00m\n\u001b[1;32m---> <a href='vscode-notebook-cell:/c%3A/Users/danie/GitHub/Oppgaver/Oppgaver/Programmering/Simuleringer/GameOfLife/daniel.ipynb#W0sZmlsZQ%3D%3D?line=80'>81</a>\u001b[0m time\u001b[39m.\u001b[39;49msleep(\u001b[39m1\u001b[39;49m\u001b[39m/\u001b[39;49m\u001b[39m3\u001b[39;49m)\n",
      "\u001b[1;31mKeyboardInterrupt\u001b[0m: "
     ]
    }
   ],
   "source": [
    "import random\n",
    "from ipycanvas import Canvas, hold_canvas\n",
    "import time\n",
    "\n",
    "cell_size = 5\n",
    "width = 100\n",
    "height = 100\n",
    "\n",
    "def populate(width, height):\n",
    "    tabell = []\n",
    "    for i in range(width):\n",
    "        kolonne = []\n",
    "        for j in range(height):\n",
    "            kolonne.append(random.randint(0, 1))\n",
    "        tabell.append(kolonne)\n",
    "\n",
    "    return tabell\n",
    "\n",
    "canvas = Canvas(width=width*cell_size, height=height*cell_size)\n",
    "display(canvas)\n",
    "\n",
    "def alive_next_generation(neighborhood):\n",
    "    alive_neighbors = sum(sum(row) for row in neighborhood) - neighborhood[1][1]\n",
    "    # 1\n",
    "    if neighborhood[1][1] == 1 and alive_neighbors < 2:\n",
    "        return False\n",
    "    # 2\n",
    "    if neighborhood[1][1] == 1 and (alive_neighbors == 2 or alive_neighbors == 3):\n",
    "        return True\n",
    "    # 3\n",
    "    if neighborhood[1][1] == 1 and alive_neighbors > 3:\n",
    "        return False\n",
    "    # 4\n",
    "    if neighborhood[1][1] == 0 and alive_neighbors == 3:\n",
    "        return True\n",
    "\n",
    "    return False\n",
    "\n",
    "def next_generation(world):\n",
    "    new_world = [[0] * len(world[0]) for _ in range(len(world))]\n",
    "\n",
    "    for i in range(1, len(world) - 1):\n",
    "        for j in range(1, len(world[0]) - 1):\n",
    "            neighborhood = [\n",
    "                [world[i - 1][j - 1], world[i - 1][j], world[i - 1][j + 1]],\n",
    "                [world[i][j - 1], world[i][j], world[i][j + 1]],\n",
    "                [world[i + 1][j - 1], world[i + 1][j], world[i + 1][j + 1]]\n",
    "            ]\n",
    "            next_gen_state = alive_next_generation(neighborhood)\n",
    "            new_world[i][j] = 1 if next_gen_state else 0\n",
    "\n",
    "    # kanten?\n",
    "    for i in range(len(world)):\n",
    "        new_world[i][0] = world[i][0]\n",
    "        new_world[i][-1] = world[i][-1]\n",
    "\n",
    "    for j in range(len(world[0])):\n",
    "        new_world[0][j] = world[0][j]\n",
    "        new_world[-1][j] = world[-1][j]\n",
    "\n",
    "    return new_world\n",
    "\n",
    "\n",
    "\n",
    "verden = populate(width, height)\n",
    "\n",
    "# while True:\n",
    "for x in range(100):\n",
    "    world = next_generation(world)\n",
    "    \n",
    "    with hold_canvas():\n",
    "        canvas.clear()\n",
    "\n",
    "        for i in range(height):\n",
    "            for j in range(width):\n",
    "                if world[i][j] == 1:\n",
    "                    canvas.fill_style = \"black\"\n",
    "                    canvas.fill_rect(cell_size*j, cell_size*i, cell_size)\n",
    "                else:\n",
    "                    continue\n",
    "        time.sleep(1/3)\n"
   ]
  }
 ],
 "metadata": {
  "kernelspec": {
   "display_name": "Python 3",
   "language": "python",
   "name": "python3"
  },
  "language_info": {
   "codemirror_mode": {
    "name": "ipython",
    "version": 3
   },
   "file_extension": ".py",
   "mimetype": "text/x-python",
   "name": "python",
   "nbconvert_exporter": "python",
   "pygments_lexer": "ipython3",
   "version": "3.10.7"
  }
 },
 "nbformat": 4,
 "nbformat_minor": 2
}
