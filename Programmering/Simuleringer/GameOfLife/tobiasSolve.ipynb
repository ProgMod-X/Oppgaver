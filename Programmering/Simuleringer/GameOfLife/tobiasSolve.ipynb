{
 "cells": [
  {
   "cell_type": "code",
   "execution_count": 24,
   "metadata": {},
   "outputs": [
    {
     "data": {
      "application/vnd.jupyter.widget-view+json": {
       "model_id": "acabb33e7644465e876f38952dc0701e",
       "version_major": 2,
       "version_minor": 0
      },
      "text/plain": [
       "Canvas(height=400, width=800)"
      ]
     },
     "metadata": {},
     "output_type": "display_data"
    },
    {
     "ename": "KeyboardInterrupt",
     "evalue": "",
     "output_type": "error",
     "traceback": [
      "\u001b[1;31m---------------------------------------------------------------------------\u001b[0m",
      "\u001b[1;31mKeyboardInterrupt\u001b[0m                         Traceback (most recent call last)",
      "\u001b[1;32mc:\\Users\\Tobias Samsonsen\\Programming\\Oppgaver\\Programmering\\Simuleringer\\GameOfLife\\tobiasSolve.ipynb Cell 1\u001b[0m line \u001b[0;36m<cell line: 74>\u001b[1;34m()\u001b[0m\n\u001b[0;32m     <a href='vscode-notebook-cell:/c%3A/Users/Tobias%20Samsonsen/Programming/Oppgaver/Programmering/Simuleringer/GameOfLife/tobiasSolve.ipynb#W0sZmlsZQ%3D%3D?line=81'>82</a>\u001b[0m             canvas\u001b[39m.\u001b[39mfill_style \u001b[39m=\u001b[39m \u001b[39m\"\u001b[39m\u001b[39mblack\u001b[39m\u001b[39m\"\u001b[39m\n\u001b[0;32m     <a href='vscode-notebook-cell:/c%3A/Users/Tobias%20Samsonsen/Programming/Oppgaver/Programmering/Simuleringer/GameOfLife/tobiasSolve.ipynb#W0sZmlsZQ%3D%3D?line=82'>83</a>\u001b[0m             canvas\u001b[39m.\u001b[39mfill_rect(posX, posY, cell_size, cell_size)\n\u001b[1;32m---> <a href='vscode-notebook-cell:/c%3A/Users/Tobias%20Samsonsen/Programming/Oppgaver/Programmering/Simuleringer/GameOfLife/tobiasSolve.ipynb#W0sZmlsZQ%3D%3D?line=84'>85</a>\u001b[0m world \u001b[39m=\u001b[39m next_generation(world)\n\u001b[0;32m     <a href='vscode-notebook-cell:/c%3A/Users/Tobias%20Samsonsen/Programming/Oppgaver/Programmering/Simuleringer/GameOfLife/tobiasSolve.ipynb#W0sZmlsZQ%3D%3D?line=85'>86</a>\u001b[0m tick \u001b[39m+\u001b[39m\u001b[39m=\u001b[39m \u001b[39m1\u001b[39m\n\u001b[0;32m     <a href='vscode-notebook-cell:/c%3A/Users/Tobias%20Samsonsen/Programming/Oppgaver/Programmering/Simuleringer/GameOfLife/tobiasSolve.ipynb#W0sZmlsZQ%3D%3D?line=86'>87</a>\u001b[0m time\u001b[39m.\u001b[39msleep(\u001b[39m1\u001b[39m\u001b[39m/\u001b[39mfps)\n",
      "\u001b[1;32mc:\\Users\\Tobias Samsonsen\\Programming\\Oppgaver\\Programmering\\Simuleringer\\GameOfLife\\tobiasSolve.ipynb Cell 1\u001b[0m line \u001b[0;36mnext_generation\u001b[1;34m(world)\u001b[0m\n\u001b[0;32m     <a href='vscode-notebook-cell:/c%3A/Users/Tobias%20Samsonsen/Programming/Oppgaver/Programmering/Simuleringer/GameOfLife/tobiasSolve.ipynb#W0sZmlsZQ%3D%3D?line=36'>37</a>\u001b[0m \u001b[39mfor\u001b[39;00m i \u001b[39min\u001b[39;00m \u001b[39mrange\u001b[39m(\u001b[39m3\u001b[39m):\n\u001b[0;32m     <a href='vscode-notebook-cell:/c%3A/Users/Tobias%20Samsonsen/Programming/Oppgaver/Programmering/Simuleringer/GameOfLife/tobiasSolve.ipynb#W0sZmlsZQ%3D%3D?line=37'>38</a>\u001b[0m     temp \u001b[39m=\u001b[39m []\n\u001b[1;32m---> <a href='vscode-notebook-cell:/c%3A/Users/Tobias%20Samsonsen/Programming/Oppgaver/Programmering/Simuleringer/GameOfLife/tobiasSolve.ipynb#W0sZmlsZQ%3D%3D?line=38'>39</a>\u001b[0m     \u001b[39mfor\u001b[39;00m j \u001b[39min\u001b[39;00m \u001b[39mrange\u001b[39;49m(\u001b[39m3\u001b[39;49m):\n\u001b[0;32m     <a href='vscode-notebook-cell:/c%3A/Users/Tobias%20Samsonsen/Programming/Oppgaver/Programmering/Simuleringer/GameOfLife/tobiasSolve.ipynb#W0sZmlsZQ%3D%3D?line=39'>40</a>\u001b[0m         temp\u001b[39m.\u001b[39mappend(world[(y \u001b[39m-\u001b[39m \u001b[39m1\u001b[39m \u001b[39m+\u001b[39m i) \u001b[39m%\u001b[39m \u001b[39mlen\u001b[39m(world)][(x \u001b[39m-\u001b[39m \u001b[39m1\u001b[39m \u001b[39m+\u001b[39m j) \u001b[39m%\u001b[39m \u001b[39mlen\u001b[39m(world[y])])\n\u001b[0;32m     <a href='vscode-notebook-cell:/c%3A/Users/Tobias%20Samsonsen/Programming/Oppgaver/Programmering/Simuleringer/GameOfLife/tobiasSolve.ipynb#W0sZmlsZQ%3D%3D?line=41'>42</a>\u001b[0m     neighborhood\u001b[39m.\u001b[39mappend(temp)\n",
      "\u001b[1;31mKeyboardInterrupt\u001b[0m: "
     ]
    }
   ],
   "source": [
    "import random\n",
    "from ipycanvas import Canvas, hold_canvas\n",
    "import time\n",
    "\n",
    "def populate(width, height): # Make a table (map) with random cells alive\n",
    "    table = []\n",
    "    choices = [0, 1]\n",
    "    for i in range(height):\n",
    "        temp = []\n",
    "        for j in range(width):\n",
    "            temp.append(random.choice(choices))\n",
    "        table.append(temp)\n",
    "    return table\n",
    "\n",
    "def alive_next_generation(neighborhood):\n",
    "    neighbors = sum(sum(row) for row in neighborhood) - neighborhood[1][1] # Count number of neighbors\n",
    "    alive = neighborhood[1][1]\n",
    "    if alive:\n",
    "        if neighbors < 2 or neighbors > 3:\n",
    "            return False\n",
    "        else:\n",
    "            return True\n",
    "    else:\n",
    "        if neighbors == 3:\n",
    "            return True\n",
    "        else:\n",
    "            return False\n",
    "    \n",
    "def next_generation(world):\n",
    "    new_world = [[0 for _ in range(len(world[0]))] for _ in range(len(world))]\n",
    "\n",
    "    # Go through all cells\n",
    "    for y in range(len(world)):\n",
    "        for x in range(len(world[y])):\n",
    "            # Make a neighborhood\n",
    "            neighborhood = []\n",
    "            for i in range(3):\n",
    "                temp = []\n",
    "                for j in range(3):\n",
    "                    temp.append(world[(y - 1 + i) % len(world)][(x - 1 + j) % len(world[y])])\n",
    "\n",
    "                neighborhood.append(temp)\n",
    "            \n",
    "            alive = alive_next_generation(neighborhood)  # Check if alive based on neighborhood\n",
    "            if alive:\n",
    "                new_world[y][x] = 1\n",
    "            else:\n",
    "                new_world[y][x] = 0\n",
    "\n",
    "    return new_world\n",
    "\n",
    "width = 800\n",
    "height = 400\n",
    "cell_size = 10\n",
    "fps = 5\n",
    "runtime = 10\n",
    "canvas = Canvas(width = width, height = height)\n",
    "tick = 0\n",
    "\n",
    "world = populate(int(width/cell_size), int(height/cell_size))\n",
    "\n",
    "# world = [[0,0,0,0,1,0,0,0,0,0],\n",
    "#          [0,0,0,0,0,1,0,0,0,0],\n",
    "#          [0,0,0,1,1,1,0,0,0,0],\n",
    "#          [0,0,0,0,0,0,0,0,0,0],\n",
    "#          [0,0,0,0,0,0,0,0,0,0],\n",
    "#          [0,0,0,0,0,0,0,0,0,0],\n",
    "#          [0,0,0,0,0,0,0,0,0,0],\n",
    "#          [0,0,0,0,0,0,0,0,0,0],\n",
    "#          [0,0,0,0,0,0,0,0,0,0],\n",
    "#          [0,0,0,0,0,0,0,0,0,0]]\n",
    "\n",
    "display(canvas)\n",
    "while tick < runtime*fps:\n",
    "    with hold_canvas(canvas):\n",
    "        canvas.clear()\n",
    "        for i in range(len(world)):\n",
    "            for j in range(len(world[i])):\n",
    "                posX = j*cell_size\n",
    "                posY = i*cell_size\n",
    "                if world[i][j] == 1:\n",
    "                    canvas.fill_style = \"black\"\n",
    "                    canvas.fill_rect(posX, posY, cell_size, cell_size)\n",
    "\n",
    "        world = next_generation(world)\n",
    "        tick += 1\n",
    "        time.sleep(1/fps)"
   ]
  }
 ],
 "metadata": {
  "kernelspec": {
   "display_name": "Python 3",
   "language": "python",
   "name": "python3"
  },
  "language_info": {
   "codemirror_mode": {
    "name": "ipython",
    "version": 3
   },
   "file_extension": ".py",
   "mimetype": "text/x-python",
   "name": "python",
   "nbconvert_exporter": "python",
   "pygments_lexer": "ipython3",
   "version": "3.10.5"
  }
 },
 "nbformat": 4,
 "nbformat_minor": 2
}
